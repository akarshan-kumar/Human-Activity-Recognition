{
  "nbformat": 4,
  "nbformat_minor": 0,
  "metadata": {
    "kernelspec": {
      "display_name": "Python 3",
      "language": "python",
      "name": "python3"
    },
    "language_info": {
      "codemirror_mode": {
        "name": "ipython",
        "version": 3
      },
      "file_extension": ".py",
      "mimetype": "text/x-python",
      "name": "python",
      "nbconvert_exporter": "python",
      "pygments_lexer": "ipython3",
      "version": "3.6.1"
    },
    "colab": {
      "name": "HAR_LSTM.ipynb",
      "provenance": [],
      "collapsed_sections": []
    }
  },
  "cells": [
    {
      "cell_type": "code",
      "metadata": {
        "id": "2CHBmygdvvyw",
        "colab_type": "code",
        "colab": {
          "base_uri": "https://localhost:8080/",
          "height": 34
        },
        "outputId": "30f658bb-7c5f-4026-d5eb-2b9d283a0ae5"
      },
      "source": [
        "from google.colab import drive\n",
        "drive.mount('/content/drive')"
      ],
      "execution_count": 172,
      "outputs": [
        {
          "output_type": "stream",
          "text": [
            "Drive already mounted at /content/drive; to attempt to forcibly remount, call drive.mount(\"/content/drive\", force_remount=True).\n"
          ],
          "name": "stdout"
        }
      ]
    },
    {
      "cell_type": "code",
      "metadata": {
        "id": "fmAYOWX9wPSr",
        "colab_type": "code",
        "colab": {
          "base_uri": "https://localhost:8080/",
          "height": 212
        },
        "outputId": "ed884407-e96a-4ffc-ddff-1525ab5501d3"
      },
      "source": [
        "import os\n",
        "os.chdir('/content/drive/My Drive/HAR')\n",
        "! ls -l"
      ],
      "execution_count": 173,
      "outputs": [
        {
          "output_type": "stream",
          "text": [
            "total 2714\n",
            "-rw------- 1 root root  305776 Sep 19 14:56 best.hdf5\n",
            "-rw------- 1 root root 1277283 Sep 19 09:48 HAR_EDA.ipynb\n",
            "-rw------- 1 root root  130898 Sep 19 15:25 HAR_LSTM.ipynb\n",
            "-rw------- 1 root root  303733 Sep 19 09:51 HAR_PREDICTION_MODELS.ipynb\n",
            "-rw------- 1 root root  143922 Aug 23  2018 t-sne_perp_10_iter_1000.png\n",
            "-rw------- 1 root root  135463 Aug 23  2018 t-sne_perp_20_iter_1000.png\n",
            "-rw------- 1 root root  167195 Aug 23  2018 t-sne_perp_2_iter_1000.png\n",
            "-rw------- 1 root root  150494 Aug 23  2018 t-sne_perp_50_iter_1000.png\n",
            "-rw------- 1 root root  157603 Aug 23  2018 t-sne_perp_5_iter_1000.png\n",
            "drwx------ 5 root root    4096 Sep 18 19:03 UCI_HAR_Dataset\n"
          ],
          "name": "stdout"
        }
      ]
    },
    {
      "cell_type": "code",
      "metadata": {
        "id": "dglfjFeEvVFY",
        "colab_type": "code",
        "colab": {}
      },
      "source": [
        "import pandas as pd\n",
        "import numpy as np\n",
        "import seaborn as sns"
      ],
      "execution_count": 175,
      "outputs": []
    },
    {
      "cell_type": "code",
      "metadata": {
        "id": "EfoGjK_ZvVFf",
        "colab_type": "code",
        "colab": {}
      },
      "source": [
        "# Activities are the class labels\n",
        "# It is a 6 class classification\n",
        "ACTIVITIES = {\n",
        "    0: 'WALKING',\n",
        "    1: 'WALKING_UPSTAIRS',\n",
        "    2: 'WALKING_DOWNSTAIRS',\n",
        "    3: 'SITTING',\n",
        "    4: 'STANDING',\n",
        "    5: 'LAYING',\n",
        "}\n",
        "\n",
        "# Utility function to print the confusion matrix\n",
        "def confusion_matrix(Y_true, Y_pred):\n",
        "    Y_true = pd.Series([ACTIVITIES[y] for y in np.argmax(Y_true, axis=1)])\n",
        "    Y_pred = pd.Series([ACTIVITIES[y] for y in np.argmax(Y_pred, axis=1)])\n",
        "\n",
        "    return pd.crosstab(Y_true, Y_pred, rownames=['True'], colnames=['Pred'])"
      ],
      "execution_count": 232,
      "outputs": []
    },
    {
      "cell_type": "markdown",
      "metadata": {
        "id": "otJA9XoKvVFl",
        "colab_type": "text"
      },
      "source": [
        "### Data"
      ]
    },
    {
      "cell_type": "code",
      "metadata": {
        "id": "_qfepXYWvVFm",
        "colab_type": "code",
        "colab": {}
      },
      "source": [
        "# Data directory\n",
        "DATADIR = 'UCI_HAR_Dataset'"
      ],
      "execution_count": 177,
      "outputs": []
    },
    {
      "cell_type": "code",
      "metadata": {
        "id": "1lLcBnaEvVFs",
        "colab_type": "code",
        "colab": {}
      },
      "source": [
        "# Raw data signals\n",
        "# Signals are from Accelerometer and Gyroscope\n",
        "# The signals are in x,y,z directions\n",
        "# Sensor signals are filtered to have only body acceleration\n",
        "# excluding the acceleration due to gravity\n",
        "# Triaxial acceleration from the accelerometer is total acceleration\n",
        "SIGNALS = [\n",
        "    \"body_acc_x\",\n",
        "    \"body_acc_y\",\n",
        "    \"body_acc_z\",\n",
        "    \"body_gyro_x\",\n",
        "    \"body_gyro_y\",\n",
        "    \"body_gyro_z\",\n",
        "    \"total_acc_x\",\n",
        "    \"total_acc_y\",\n",
        "    \"total_acc_z\"\n",
        "]"
      ],
      "execution_count": 178,
      "outputs": []
    },
    {
      "cell_type": "code",
      "metadata": {
        "id": "UL8vj-spvVF1",
        "colab_type": "code",
        "colab": {}
      },
      "source": [
        "# Utility function to read the data from csv file\n",
        "def _read_csv(filename):\n",
        "    return pd.read_csv(filename, delim_whitespace=True, header=None)\n",
        "\n",
        "# Utility function to load the load\n",
        "def load_signals(subset):\n",
        "    signals_data = []\n",
        "\n",
        "    for signal in SIGNALS:\n",
        "        filename = f'UCI_HAR_Dataset/{subset}/Inertial Signals/{signal}_{subset}.txt'\n",
        "        signals_data.append(\n",
        "            _read_csv(filename).values\n",
        "        ) \n",
        "\n",
        "    # Transpose is used to change the dimensionality of the output,\n",
        "    # aggregating the signals by combination of sample/timestep.\n",
        "    # Resultant shape is (7352 train/2947 test samples, 128 timesteps, 9 signals)\n",
        "    return np.transpose(signals_data, (1, 2, 0))"
      ],
      "execution_count": 179,
      "outputs": []
    },
    {
      "cell_type": "code",
      "metadata": {
        "id": "tf3F8sH-vVF8",
        "colab_type": "code",
        "colab": {}
      },
      "source": [
        "\n",
        "def load_y(subset):\n",
        "    \"\"\"\n",
        "    The objective that we are trying to predict is a integer, from 1 to 6,\n",
        "    that represents a human activity. We return a binary representation of \n",
        "    every sample objective as a 6 bits vector using One Hot Encoding\n",
        "    (https://pandas.pydata.org/pandas-docs/stable/generated/pandas.get_dummies.html)\n",
        "    \"\"\"\n",
        "    filename = f'UCI_HAR_Dataset/{subset}/y_{subset}.txt'\n",
        "    y = _read_csv(filename)[0]\n",
        "\n",
        "    return pd.get_dummies(y).values"
      ],
      "execution_count": 180,
      "outputs": []
    },
    {
      "cell_type": "code",
      "metadata": {
        "id": "VcBmeizMvVGC",
        "colab_type": "code",
        "colab": {}
      },
      "source": [
        "def load_data():\n",
        "    \"\"\"\n",
        "    Obtain the dataset from multiple files.\n",
        "    Returns: X_train, X_test, y_train, y_test\n",
        "    \"\"\"\n",
        "    X_train, X_test = load_signals('train'), load_signals('test')\n",
        "    y_train, y_test = load_y('train'), load_y('test')\n",
        "\n",
        "    return X_train, X_test, y_train, y_test"
      ],
      "execution_count": 181,
      "outputs": []
    },
    {
      "cell_type": "code",
      "metadata": {
        "id": "KkgU4DJvvVGH",
        "colab_type": "code",
        "colab": {}
      },
      "source": [
        "# Importing tensorflow\n",
        "np.random.seed(42)\n",
        "import tensorflow as tf\n",
        "tf.random.set_seed(42)"
      ],
      "execution_count": 182,
      "outputs": []
    },
    {
      "cell_type": "code",
      "metadata": {
        "id": "rVD409pKvVGM",
        "colab_type": "code",
        "colab": {}
      },
      "source": [
        "# Configuring a session\n",
        "session_conf =  tf.compat.v1.ConfigProto(\n",
        "    intra_op_parallelism_threads=1,\n",
        "    inter_op_parallelism_threads=1\n",
        ")"
      ],
      "execution_count": 183,
      "outputs": []
    },
    {
      "cell_type": "code",
      "metadata": {
        "id": "moNdsL5RvVGR",
        "colab_type": "code",
        "colab": {
          "base_uri": "https://localhost:8080/",
          "height": 34
        },
        "outputId": "2858eb33-dc6f-457d-f626-793d5cd4ebd1"
      },
      "source": [
        "# Import Keras\n",
        "from keras import backend as K\n",
        "sess = tf.compat.v1.Session(graph=tf.compat.v1.get_default_graph(), config=session_conf)\n",
        "tf.compat.v1.keras.backend.set_session"
      ],
      "execution_count": 184,
      "outputs": [
        {
          "output_type": "execute_result",
          "data": {
            "text/plain": [
              "<function tensorflow.python.keras.backend.set_session>"
            ]
          },
          "metadata": {
            "tags": []
          },
          "execution_count": 184
        }
      ]
    },
    {
      "cell_type": "code",
      "metadata": {
        "id": "2eG8etE4vVGX",
        "colab_type": "code",
        "colab": {}
      },
      "source": [
        "# Importing libraries\n",
        "from keras.models import Sequential\n",
        "from keras.layers import LSTM\n",
        "from keras.layers.core import Dense, Dropout"
      ],
      "execution_count": 185,
      "outputs": []
    },
    {
      "cell_type": "code",
      "metadata": {
        "id": "H92gqpswvVGd",
        "colab_type": "code",
        "colab": {}
      },
      "source": [
        "# Initializing parameters\n",
        "epochs = 30\n",
        "batch_size = 16\n",
        "n_hidden = 32"
      ],
      "execution_count": 186,
      "outputs": []
    },
    {
      "cell_type": "code",
      "metadata": {
        "id": "SOUuov28vVGi",
        "colab_type": "code",
        "colab": {}
      },
      "source": [
        "# Utility function to count the number of classes\n",
        "def _count_classes(y):\n",
        "    return len(set([tuple(category) for category in y]))"
      ],
      "execution_count": 187,
      "outputs": []
    },
    {
      "cell_type": "code",
      "metadata": {
        "id": "5ADNx_bYvVGn",
        "colab_type": "code",
        "colab": {}
      },
      "source": [
        "# Loading the train and test data\n",
        "X_train, X_test, Y_train, Y_test = load_data()"
      ],
      "execution_count": 188,
      "outputs": []
    },
    {
      "cell_type": "code",
      "metadata": {
        "id": "ua--iCAIvVGu",
        "colab_type": "code",
        "colab": {
          "base_uri": "https://localhost:8080/",
          "height": 70
        },
        "outputId": "95b4cb5d-63f7-4b8a-d034-92b81b65bc9b"
      },
      "source": [
        "timesteps = len(X_train[0])\n",
        "input_dim = len(X_train[0][0])\n",
        "n_classes = _count_classes(Y_train)\n",
        "\n",
        "print(timesteps)\n",
        "print(input_dim)\n",
        "print(len(X_train))"
      ],
      "execution_count": 191,
      "outputs": [
        {
          "output_type": "stream",
          "text": [
            "128\n",
            "9\n",
            "7352\n"
          ],
          "name": "stdout"
        }
      ]
    },
    {
      "cell_type": "markdown",
      "metadata": {
        "id": "iB_DPaZkvVG0",
        "colab_type": "text"
      },
      "source": [
        "- Defining the Architecture of LSTM"
      ]
    },
    {
      "cell_type": "code",
      "metadata": {
        "id": "GBMhQTdG5ArF",
        "colab_type": "code",
        "colab": {}
      },
      "source": [
        "import tensorflow as tf\n",
        "from tensorflow.keras.layers import Dense,Dropout,LSTM,BatchNormalization\n",
        "from tensorflow.keras.models import Sequential\n",
        "from tensorflow.keras.layers import Embedding"
      ],
      "execution_count": 192,
      "outputs": []
    },
    {
      "cell_type": "code",
      "metadata": {
        "id": "fhu3fbPzvVG2",
        "colab_type": "code",
        "colab": {
          "base_uri": "https://localhost:8080/",
          "height": 407
        },
        "outputId": "c1ea7d9a-cbd1-4083-db57-5bc441355a1e"
      },
      "source": [
        "# Initiliazing the sequential model\n",
        "model = Sequential()\n",
        "# Configuring the parameters\n",
        "model.add(LSTM(8, input_shape=(timesteps, input_dim),return_sequences= True))\n",
        "# Adding a dropout layer\n",
        "model.add(Dropout(0.7))\n",
        "model.add(BatchNormalization())\n",
        "\n",
        "model.add(LSTM(16))\n",
        "model.add(Dropout(0.7))\n",
        "model.add(BatchNormalization())\n",
        "\n",
        "# Adding a dense output layer with sigmoid activation\n",
        "model.add(Dense(n_classes, activation='sigmoid'))\n",
        "model.summary()\n",
        "\n",
        "# Compiling the model\n",
        "model.compile(loss='categorical_crossentropy',\n",
        "              optimizer='rmsprop',\n",
        "              metrics=['accuracy'])"
      ],
      "execution_count": 199,
      "outputs": [
        {
          "output_type": "stream",
          "text": [
            "Model: \"sequential_34\"\n",
            "_________________________________________________________________\n",
            "Layer (type)                 Output Shape              Param #   \n",
            "=================================================================\n",
            "lstm_50 (LSTM)               (None, 128, 8)            576       \n",
            "_________________________________________________________________\n",
            "dropout_43 (Dropout)         (None, 128, 8)            0         \n",
            "_________________________________________________________________\n",
            "batch_normalization_14 (Batc (None, 128, 8)            32        \n",
            "_________________________________________________________________\n",
            "lstm_51 (LSTM)               (None, 16)                1600      \n",
            "_________________________________________________________________\n",
            "dropout_44 (Dropout)         (None, 16)                0         \n",
            "_________________________________________________________________\n",
            "batch_normalization_15 (Batc (None, 16)                64        \n",
            "_________________________________________________________________\n",
            "dense_23 (Dense)             (None, 6)                 102       \n",
            "=================================================================\n",
            "Total params: 2,374\n",
            "Trainable params: 2,326\n",
            "Non-trainable params: 48\n",
            "_________________________________________________________________\n"
          ],
          "name": "stdout"
        }
      ]
    },
    {
      "cell_type": "code",
      "metadata": {
        "id": "y21RyrPcRmKQ",
        "colab_type": "code",
        "colab": {}
      },
      "source": [
        "filepath = \"model.hdf5\"\n",
        "\n",
        "# Keep only a single checkpoint, the best over test accuracy.\n",
        "checkpoint = tf.keras.callbacks.ModelCheckpoint(filepath,\n",
        "                            monitor='val_accuracy',\n",
        "                            verbose=1,\n",
        "                            save_best_only=True,\n",
        "                            mode='auto')"
      ],
      "execution_count": 200,
      "outputs": []
    },
    {
      "cell_type": "code",
      "metadata": {
        "id": "qNPtM3fWvVHA",
        "colab_type": "code",
        "colab": {
          "base_uri": "https://localhost:8080/",
          "height": 1000
        },
        "outputId": "c00edfac-1ed3-433b-c943-4589d30bcd83"
      },
      "source": [
        "# Training the model\n",
        "history=model.fit(X_train,\n",
        "          Y_train,\n",
        "          batch_size=batch_size,\n",
        "          validation_split=0.33,\n",
        "          epochs=epochs,\n",
        "          callbacks=[checkpoint])"
      ],
      "execution_count": 201,
      "outputs": [
        {
          "output_type": "stream",
          "text": [
            "Epoch 1/30\n",
            "308/308 [==============================] - ETA: 0s - loss: 1.6768 - accuracy: 0.3163\n",
            "Epoch 00001: val_accuracy improved from -inf to 0.54223, saving model to model.hdf5\n",
            "308/308 [==============================] - 31s 99ms/step - loss: 1.6768 - accuracy: 0.3163 - val_loss: 1.3072 - val_accuracy: 0.5422\n",
            "Epoch 2/30\n",
            "308/308 [==============================] - ETA: 0s - loss: 1.2968 - accuracy: 0.4861\n",
            "Epoch 00002: val_accuracy improved from 0.54223 to 0.62176, saving model to model.hdf5\n",
            "308/308 [==============================] - 31s 99ms/step - loss: 1.2968 - accuracy: 0.4861 - val_loss: 0.9919 - val_accuracy: 0.6218\n",
            "Epoch 3/30\n",
            "308/308 [==============================] - ETA: 0s - loss: 1.1214 - accuracy: 0.5283\n",
            "Epoch 00003: val_accuracy improved from 0.62176 to 0.63988, saving model to model.hdf5\n",
            "308/308 [==============================] - 30s 99ms/step - loss: 1.1214 - accuracy: 0.5283 - val_loss: 0.8946 - val_accuracy: 0.6399\n",
            "Epoch 4/30\n",
            "308/308 [==============================] - ETA: 0s - loss: 1.0098 - accuracy: 0.5446\n",
            "Epoch 00004: val_accuracy improved from 0.63988 to 0.64153, saving model to model.hdf5\n",
            "308/308 [==============================] - 33s 106ms/step - loss: 1.0098 - accuracy: 0.5446 - val_loss: 0.8524 - val_accuracy: 0.6415\n",
            "Epoch 5/30\n",
            "308/308 [==============================] - ETA: 0s - loss: 0.9724 - accuracy: 0.5419\n",
            "Epoch 00005: val_accuracy did not improve from 0.64153\n",
            "308/308 [==============================] - 31s 101ms/step - loss: 0.9724 - accuracy: 0.5419 - val_loss: 0.8268 - val_accuracy: 0.6143\n",
            "Epoch 6/30\n",
            "308/308 [==============================] - ETA: 0s - loss: 0.9260 - accuracy: 0.5533\n",
            "Epoch 00006: val_accuracy improved from 0.64153 to 0.66419, saving model to model.hdf5\n",
            "308/308 [==============================] - 31s 100ms/step - loss: 0.9260 - accuracy: 0.5533 - val_loss: 0.7903 - val_accuracy: 0.6642\n",
            "Epoch 7/30\n",
            "308/308 [==============================] - ETA: 0s - loss: 0.9015 - accuracy: 0.5827\n",
            "Epoch 00007: val_accuracy did not improve from 0.66419\n",
            "308/308 [==============================] - 30s 98ms/step - loss: 0.9015 - accuracy: 0.5827 - val_loss: 0.7443 - val_accuracy: 0.6337\n",
            "Epoch 8/30\n",
            "308/308 [==============================] - ETA: 0s - loss: 0.8700 - accuracy: 0.5982\n",
            "Epoch 00008: val_accuracy improved from 0.66419 to 0.67326, saving model to model.hdf5\n",
            "308/308 [==============================] - 30s 98ms/step - loss: 0.8700 - accuracy: 0.5982 - val_loss: 0.6943 - val_accuracy: 0.6733\n",
            "Epoch 9/30\n",
            "308/308 [==============================] - ETA: 0s - loss: 0.8704 - accuracy: 0.5988\n",
            "Epoch 00009: val_accuracy improved from 0.67326 to 0.68274, saving model to model.hdf5\n",
            "308/308 [==============================] - 30s 99ms/step - loss: 0.8704 - accuracy: 0.5988 - val_loss: 0.6320 - val_accuracy: 0.6827\n",
            "Epoch 10/30\n",
            "308/308 [==============================] - ETA: 0s - loss: 0.8428 - accuracy: 0.6250\n",
            "Epoch 00010: val_accuracy improved from 0.68274 to 0.69716, saving model to model.hdf5\n",
            "308/308 [==============================] - 30s 99ms/step - loss: 0.8428 - accuracy: 0.6250 - val_loss: 0.6347 - val_accuracy: 0.6972\n",
            "Epoch 11/30\n",
            "308/308 [==============================] - ETA: 0s - loss: 0.8352 - accuracy: 0.6236\n",
            "Epoch 00011: val_accuracy did not improve from 0.69716\n",
            "308/308 [==============================] - 30s 98ms/step - loss: 0.8352 - accuracy: 0.6236 - val_loss: 0.6819 - val_accuracy: 0.6852\n",
            "Epoch 12/30\n",
            "308/308 [==============================] - ETA: 0s - loss: 0.8360 - accuracy: 0.6301\n",
            "Epoch 00012: val_accuracy improved from 0.69716 to 0.73795, saving model to model.hdf5\n",
            "308/308 [==============================] - 30s 98ms/step - loss: 0.8360 - accuracy: 0.6301 - val_loss: 0.5918 - val_accuracy: 0.7379\n",
            "Epoch 13/30\n",
            "308/308 [==============================] - ETA: 0s - loss: 0.8232 - accuracy: 0.6337\n",
            "Epoch 00013: val_accuracy improved from 0.73795 to 0.77585, saving model to model.hdf5\n",
            "308/308 [==============================] - 31s 100ms/step - loss: 0.8232 - accuracy: 0.6337 - val_loss: 0.5656 - val_accuracy: 0.7759\n",
            "Epoch 14/30\n",
            "308/308 [==============================] - ETA: 0s - loss: 0.8075 - accuracy: 0.6414\n",
            "Epoch 00014: val_accuracy improved from 0.77585 to 0.78863, saving model to model.hdf5\n",
            "308/308 [==============================] - 33s 106ms/step - loss: 0.8075 - accuracy: 0.6414 - val_loss: 0.5536 - val_accuracy: 0.7886\n",
            "Epoch 15/30\n",
            "308/308 [==============================] - ETA: 0s - loss: 0.7959 - accuracy: 0.6526\n",
            "Epoch 00015: val_accuracy did not improve from 0.78863\n",
            "308/308 [==============================] - 33s 107ms/step - loss: 0.7959 - accuracy: 0.6526 - val_loss: 0.5597 - val_accuracy: 0.7833\n",
            "Epoch 16/30\n",
            "308/308 [==============================] - ETA: 0s - loss: 0.7657 - accuracy: 0.6623\n",
            "Epoch 00016: val_accuracy did not improve from 0.78863\n",
            "308/308 [==============================] - 30s 97ms/step - loss: 0.7657 - accuracy: 0.6623 - val_loss: 0.5681 - val_accuracy: 0.7474\n",
            "Epoch 17/30\n",
            "308/308 [==============================] - ETA: 0s - loss: 0.7720 - accuracy: 0.6642\n",
            "Epoch 00017: val_accuracy did not improve from 0.78863\n",
            "308/308 [==============================] - 30s 98ms/step - loss: 0.7720 - accuracy: 0.6642 - val_loss: 0.5281 - val_accuracy: 0.7606\n",
            "Epoch 18/30\n",
            "308/308 [==============================] - ETA: 0s - loss: 0.7522 - accuracy: 0.6788\n",
            "Epoch 00018: val_accuracy did not improve from 0.78863\n",
            "308/308 [==============================] - 30s 98ms/step - loss: 0.7522 - accuracy: 0.6788 - val_loss: 0.5360 - val_accuracy: 0.7651\n",
            "Epoch 19/30\n",
            "308/308 [==============================] - ETA: 0s - loss: 0.7411 - accuracy: 0.6737\n",
            "Epoch 00019: val_accuracy did not improve from 0.78863\n",
            "308/308 [==============================] - 30s 98ms/step - loss: 0.7411 - accuracy: 0.6737 - val_loss: 0.5999 - val_accuracy: 0.7598\n",
            "Epoch 20/30\n",
            "308/308 [==============================] - ETA: 0s - loss: 0.7169 - accuracy: 0.6902\n",
            "Epoch 00020: val_accuracy did not improve from 0.78863\n",
            "308/308 [==============================] - 30s 98ms/step - loss: 0.7169 - accuracy: 0.6902 - val_loss: 0.6227 - val_accuracy: 0.7557\n",
            "Epoch 21/30\n",
            "308/308 [==============================] - ETA: 0s - loss: 0.7180 - accuracy: 0.6920\n",
            "Epoch 00021: val_accuracy did not improve from 0.78863\n",
            "308/308 [==============================] - 31s 99ms/step - loss: 0.7180 - accuracy: 0.6920 - val_loss: 0.6176 - val_accuracy: 0.7602\n",
            "Epoch 22/30\n",
            "308/308 [==============================] - ETA: 0s - loss: 0.6963 - accuracy: 0.7054\n",
            "Epoch 00022: val_accuracy did not improve from 0.78863\n",
            "308/308 [==============================] - 31s 100ms/step - loss: 0.6963 - accuracy: 0.7054 - val_loss: 0.6228 - val_accuracy: 0.7672\n",
            "Epoch 23/30\n",
            "308/308 [==============================] - ETA: 0s - loss: 0.6889 - accuracy: 0.7038\n",
            "Epoch 00023: val_accuracy did not improve from 0.78863\n",
            "308/308 [==============================] - 31s 100ms/step - loss: 0.6889 - accuracy: 0.7038 - val_loss: 0.5872 - val_accuracy: 0.7721\n",
            "Epoch 24/30\n",
            "308/308 [==============================] - ETA: 0s - loss: 0.6824 - accuracy: 0.7021\n",
            "Epoch 00024: val_accuracy did not improve from 0.78863\n",
            "308/308 [==============================] - 31s 100ms/step - loss: 0.6824 - accuracy: 0.7021 - val_loss: 0.5682 - val_accuracy: 0.7787\n",
            "Epoch 25/30\n",
            "308/308 [==============================] - ETA: 0s - loss: 0.6696 - accuracy: 0.7036\n",
            "Epoch 00025: val_accuracy did not improve from 0.78863\n",
            "308/308 [==============================] - 35s 114ms/step - loss: 0.6696 - accuracy: 0.7036 - val_loss: 0.4592 - val_accuracy: 0.7837\n",
            "Epoch 26/30\n",
            "308/308 [==============================] - ETA: 0s - loss: 0.6535 - accuracy: 0.7137\n",
            "Epoch 00026: val_accuracy did not improve from 0.78863\n",
            "308/308 [==============================] - 30s 98ms/step - loss: 0.6535 - accuracy: 0.7137 - val_loss: 0.5721 - val_accuracy: 0.7701\n",
            "Epoch 27/30\n",
            "308/308 [==============================] - ETA: 0s - loss: 0.6414 - accuracy: 0.7084\n",
            "Epoch 00027: val_accuracy did not improve from 0.78863\n",
            "308/308 [==============================] - 30s 99ms/step - loss: 0.6414 - accuracy: 0.7084 - val_loss: 0.6434 - val_accuracy: 0.7594\n",
            "Epoch 28/30\n",
            "308/308 [==============================] - ETA: 0s - loss: 0.6416 - accuracy: 0.7117\n",
            "Epoch 00028: val_accuracy did not improve from 0.78863\n",
            "308/308 [==============================] - 31s 100ms/step - loss: 0.6416 - accuracy: 0.7117 - val_loss: 0.6363 - val_accuracy: 0.7499\n",
            "Epoch 29/30\n",
            "308/308 [==============================] - ETA: 0s - loss: 0.6213 - accuracy: 0.7230\n",
            "Epoch 00029: val_accuracy did not improve from 0.78863\n",
            "308/308 [==============================] - 31s 99ms/step - loss: 0.6213 - accuracy: 0.7230 - val_loss: 0.6914 - val_accuracy: 0.7581\n",
            "Epoch 30/30\n",
            "308/308 [==============================] - ETA: 0s - loss: 0.6296 - accuracy: 0.7094\n",
            "Epoch 00030: val_accuracy did not improve from 0.78863\n",
            "308/308 [==============================] - 31s 100ms/step - loss: 0.6296 - accuracy: 0.7094 - val_loss: 0.7828 - val_accuracy: 0.7157\n"
          ],
          "name": "stdout"
        }
      ]
    },
    {
      "cell_type": "code",
      "metadata": {
        "id": "dhpc1g2ZvVHE",
        "colab_type": "code",
        "colab": {
          "base_uri": "https://localhost:8080/",
          "height": 158
        },
        "outputId": "ec5606a1-9157-4ec2-a6a6-49dbdd6540cb"
      },
      "source": [
        "# Confusion Matrix\n",
        "\n",
        "print(confusion_matrix(Y_test, model.predict(X_test)))"
      ],
      "execution_count": 233,
      "outputs": [
        {
          "output_type": "stream",
          "text": [
            "Pred                LAYING  SITTING  STANDING  WALKING  WALKING_UPSTAIRS\n",
            "True                                                                    \n",
            "LAYING                 521        0         0        0                16\n",
            "SITTING                  1      427        60        1                 2\n",
            "STANDING                 0      128       403        1                 0\n",
            "WALKING                  2        1       111      351                31\n",
            "WALKING_DOWNSTAIRS       1        0         0       18               401\n",
            "WALKING_UPSTAIRS         4        0         5      101               361\n"
          ],
          "name": "stdout"
        }
      ]
    },
    {
      "cell_type": "code",
      "metadata": {
        "id": "0tARwcMAvVHJ",
        "colab_type": "code",
        "colab": {
          "base_uri": "https://localhost:8080/",
          "height": 418
        },
        "outputId": "9c025e7f-bc3c-4b0e-c0a1-e9c9bcec0d7c"
      },
      "source": [
        "score = model.evaluate(X_test, Y_test)\n",
        "print('\\n')\n",
        "print('-'*100)\n",
        "print('\\n')\n",
        "print(f'model accuracy is {score[1]}')\n",
        "\n",
        "\n",
        "import matplotlib.pyplot  as plt\n",
        "plt.plot(history.history['loss'])\n",
        "plt.plot(history.history['val_loss'])\n",
        "plt.title('model loss')\n",
        "plt.ylabel('loss')\n",
        "plt.xlabel('epoch')\n",
        "plt.legend(['train', 'test'], loc='upper left')\n",
        "plt.grid()\n",
        "plt.show()"
      ],
      "execution_count": 236,
      "outputs": [
        {
          "output_type": "stream",
          "text": [
            "93/93 [==============================] - 2s 19ms/step - loss: 0.7626 - accuracy: 0.7000\n",
            "\n",
            "\n",
            "----------------------------------------------------------------------------------------------------\n",
            "\n",
            "\n",
            "model accuracy is 0.7000339031219482\n"
          ],
          "name": "stdout"
        },
        {
          "output_type": "display_data",
          "data": {
            "image/png": "[encoded data removed]",
            "text/plain": [
              "<Figure size 432x288 with 1 Axes>"
            ]
          },
          "metadata": {
            "tags": [],
            "needs_background": "light"
          }
        }
      ]
    },
    {
      "cell_type": "code",
      "metadata": {
        "id": "fGpHrCLR7hIb",
        "colab_type": "code",
        "colab": {
          "base_uri": "https://localhost:8080/",
          "height": 301
        },
        "outputId": "30e2c5b8-36ad-4de1-ad34-548dbcc38547"
      },
      "source": [
        "# Initiliazing the sequential model\n",
        "model2 = Sequential()\n",
        "# Configuring the parameters\n",
        "model2.add(LSTM(16, input_shape=(timesteps, input_dim),return_sequences= True))\n",
        "# Adding a dropout layer\n",
        "model.add(Dropout(0.3))\n",
        "\n",
        "model2.add(LSTM(32))\n",
        "model2.add(Dropout(0.7))\n",
        "\n",
        "# Adding a dense output layer with sigmoid activation\n",
        "model2.add(Dense(n_classes, activation='sigmoid'))\n",
        "model2.summary()\n",
        "\n",
        "# Compiling the model\n",
        "model2.compile(loss='categorical_crossentropy',\n",
        "              optimizer='rmsprop',\n",
        "              metrics=['accuracy'])"
      ],
      "execution_count": 120,
      "outputs": [
        {
          "output_type": "stream",
          "text": [
            "Model: \"sequential_21\"\n",
            "_________________________________________________________________\n",
            "Layer (type)                 Output Shape              Param #   \n",
            "=================================================================\n",
            "lstm_26 (LSTM)               (None, 128, 16)           1664      \n",
            "_________________________________________________________________\n",
            "lstm_27 (LSTM)               (None, 32)                6272      \n",
            "_________________________________________________________________\n",
            "dropout_20 (Dropout)         (None, 32)                0         \n",
            "_________________________________________________________________\n",
            "dense_12 (Dense)             (None, 6)                 198       \n",
            "=================================================================\n",
            "Total params: 8,134\n",
            "Trainable params: 8,134\n",
            "Non-trainable params: 0\n",
            "_________________________________________________________________\n"
          ],
          "name": "stdout"
        }
      ]
    },
    {
      "cell_type": "code",
      "metadata": {
        "id": "vDafZDLq8ZtR",
        "colab_type": "code",
        "colab": {
          "base_uri": "https://localhost:8080/",
          "height": 1000
        },
        "outputId": "5e0cc8f8-4ac1-4e15-ccb9-0b52d1f6f156"
      },
      "source": [
        "# Training the model\n",
        "history2=model2.fit(X_train,\n",
        "          Y_train,\n",
        "          batch_size=batch_size,\n",
        "          validation_data=(X_test, Y_test),\n",
        "          epochs=epochs)"
      ],
      "execution_count": 121,
      "outputs": [
        {
          "output_type": "stream",
          "text": [
            "Epoch 1/30\n",
            "460/460 [==============================] - 47s 101ms/step - loss: 1.3230 - accuracy: 0.4544 - val_loss: 1.0300 - val_accuracy: 0.5745\n",
            "Epoch 2/30\n",
            "460/460 [==============================] - 46s 100ms/step - loss: 0.9668 - accuracy: 0.5934 - val_loss: 0.8456 - val_accuracy: 0.6661\n",
            "Epoch 3/30\n",
            "460/460 [==============================] - 46s 100ms/step - loss: 0.8053 - accuracy: 0.6620 - val_loss: 0.9324 - val_accuracy: 0.6376\n",
            "Epoch 4/30\n",
            "460/460 [==============================] - 46s 99ms/step - loss: 0.7820 - accuracy: 0.6748 - val_loss: 0.7659 - val_accuracy: 0.6851\n",
            "Epoch 5/30\n",
            "460/460 [==============================] - 46s 99ms/step - loss: 0.7270 - accuracy: 0.6982 - val_loss: 0.6875 - val_accuracy: 0.6973\n",
            "Epoch 6/30\n",
            "460/460 [==============================] - 46s 100ms/step - loss: 0.6719 - accuracy: 0.7274 - val_loss: 0.6823 - val_accuracy: 0.7201\n",
            "Epoch 7/30\n",
            "460/460 [==============================] - 48s 103ms/step - loss: 0.5972 - accuracy: 0.7497 - val_loss: 0.7390 - val_accuracy: 0.7197\n",
            "Epoch 8/30\n",
            "460/460 [==============================] - 46s 101ms/step - loss: 0.5600 - accuracy: 0.7726 - val_loss: 0.7427 - val_accuracy: 0.7384\n",
            "Epoch 9/30\n",
            "460/460 [==============================] - 47s 103ms/step - loss: 0.5384 - accuracy: 0.7904 - val_loss: 0.7459 - val_accuracy: 0.7479\n",
            "Epoch 10/30\n",
            "460/460 [==============================] - 46s 99ms/step - loss: 0.4892 - accuracy: 0.8017 - val_loss: 0.6925 - val_accuracy: 0.7333\n",
            "Epoch 11/30\n",
            "460/460 [==============================] - 46s 99ms/step - loss: 0.4384 - accuracy: 0.8259 - val_loss: 0.7154 - val_accuracy: 0.8107\n",
            "Epoch 12/30\n",
            "460/460 [==============================] - 46s 99ms/step - loss: 0.4056 - accuracy: 0.8716 - val_loss: 0.6425 - val_accuracy: 0.8137\n",
            "Epoch 13/30\n",
            "460/460 [==============================] - 46s 99ms/step - loss: 0.3559 - accuracy: 0.8953 - val_loss: 0.5955 - val_accuracy: 0.8500\n",
            "Epoch 14/30\n",
            "460/460 [==============================] - 47s 101ms/step - loss: 0.3242 - accuracy: 0.9109 - val_loss: 0.5967 - val_accuracy: 0.8714\n",
            "Epoch 15/30\n",
            "460/460 [==============================] - 46s 99ms/step - loss: 0.3070 - accuracy: 0.9181 - val_loss: 0.4692 - val_accuracy: 0.8816\n",
            "Epoch 16/30\n",
            "460/460 [==============================] - 49s 106ms/step - loss: 0.2891 - accuracy: 0.9208 - val_loss: 0.5342 - val_accuracy: 0.8887\n",
            "Epoch 17/30\n",
            "460/460 [==============================] - 45s 98ms/step - loss: 0.2618 - accuracy: 0.9257 - val_loss: 0.6217 - val_accuracy: 0.8643\n",
            "Epoch 18/30\n",
            "460/460 [==============================] - 45s 98ms/step - loss: 0.2587 - accuracy: 0.9232 - val_loss: 0.5052 - val_accuracy: 0.8850\n",
            "Epoch 19/30\n",
            "460/460 [==============================] - 45s 97ms/step - loss: 0.2679 - accuracy: 0.9279 - val_loss: 0.5180 - val_accuracy: 0.8765\n",
            "Epoch 20/30\n",
            "460/460 [==============================] - 46s 99ms/step - loss: 0.2504 - accuracy: 0.9285 - val_loss: 0.4084 - val_accuracy: 0.8918\n",
            "Epoch 21/30\n",
            "460/460 [==============================] - 45s 99ms/step - loss: 0.2336 - accuracy: 0.9346 - val_loss: 0.4596 - val_accuracy: 0.8972\n",
            "Epoch 22/30\n",
            "460/460 [==============================] - 45s 97ms/step - loss: 0.2341 - accuracy: 0.9316 - val_loss: 0.4568 - val_accuracy: 0.8972\n",
            "Epoch 23/30\n",
            "460/460 [==============================] - 48s 104ms/step - loss: 0.2328 - accuracy: 0.9366 - val_loss: 0.4981 - val_accuracy: 0.8951\n",
            "Epoch 24/30\n",
            "460/460 [==============================] - 46s 100ms/step - loss: 0.2197 - accuracy: 0.9347 - val_loss: 0.6157 - val_accuracy: 0.8955\n",
            "Epoch 25/30\n",
            "460/460 [==============================] - 45s 98ms/step - loss: 0.2079 - accuracy: 0.9347 - val_loss: 0.5205 - val_accuracy: 0.8846\n",
            "Epoch 26/30\n",
            "460/460 [==============================] - 45s 97ms/step - loss: 0.2066 - accuracy: 0.9354 - val_loss: 0.5888 - val_accuracy: 0.9030\n",
            "Epoch 27/30\n",
            "460/460 [==============================] - 46s 99ms/step - loss: 0.2162 - accuracy: 0.9347 - val_loss: 0.5928 - val_accuracy: 0.8870\n",
            "Epoch 28/30\n",
            "460/460 [==============================] - 45s 97ms/step - loss: 0.1932 - accuracy: 0.9403 - val_loss: 0.5316 - val_accuracy: 0.8850\n",
            "Epoch 29/30\n",
            "460/460 [==============================] - 46s 100ms/step - loss: 0.2149 - accuracy: 0.9358 - val_loss: 0.5272 - val_accuracy: 0.8867\n",
            "Epoch 30/30\n",
            "460/460 [==============================] - 46s 101ms/step - loss: 0.1912 - accuracy: 0.9385 - val_loss: 0.4637 - val_accuracy: 0.9091\n"
          ],
          "name": "stdout"
        }
      ]
    },
    {
      "cell_type": "code",
      "metadata": {
        "id": "1X5l4wWw8eOh",
        "colab_type": "code",
        "colab": {
          "base_uri": "https://localhost:8080/",
          "height": 194
        },
        "outputId": "dfaaea97-617b-4fd1-b4c3-864daa111979"
      },
      "source": [
        "# Confusion Matrix\n",
        "print(confusion_matrix(Y_test, model2.predict(X_test)))"
      ],
      "execution_count": 122,
      "outputs": [
        {
          "output_type": "stream",
          "text": [
            "Pred                LAYING  SITTING  ...  WALKING_DOWNSTAIRS  WALKING_UPSTAIRS\n",
            "True                                 ...                                      \n",
            "LAYING                 510        0  ...                   0                27\n",
            "SITTING                  0      393  ...                   2                 3\n",
            "STANDING                 0       52  ...                   0                 0\n",
            "WALKING                  0        0  ...                   0                16\n",
            "WALKING_DOWNSTAIRS       0        0  ...                 397                22\n",
            "WALKING_UPSTAIRS         0        0  ...                   5               424\n",
            "\n",
            "[6 rows x 6 columns]\n"
          ],
          "name": "stdout"
        }
      ]
    },
    {
      "cell_type": "code",
      "metadata": {
        "id": "Gggxf3ss8k_Y",
        "colab_type": "code",
        "colab": {
          "base_uri": "https://localhost:8080/",
          "height": 141
        },
        "outputId": "7e0782fc-2373-4843-b102-746eb488c265"
      },
      "source": [
        "score = model2.evaluate(X_test, Y_test)\n",
        "print('\\n')\n",
        "print('-'*100)\n",
        "print('\\n')\n",
        "print(f'model accuracy is {score[1]}')"
      ],
      "execution_count": 123,
      "outputs": [
        {
          "output_type": "stream",
          "text": [
            "93/93 [==============================] - 2s 20ms/step - loss: 0.4637 - accuracy: 0.9091\n",
            "\n",
            "\n",
            "----------------------------------------------------------------------------------------------------\n",
            "\n",
            "\n",
            "model accuracy is 0.9090600609779358\n"
          ],
          "name": "stdout"
        }
      ]
    },
    {
      "cell_type": "code",
      "metadata": {
        "id": "Cox14Dt88k4O",
        "colab_type": "code",
        "colab": {
          "base_uri": "https://localhost:8080/",
          "height": 294
        },
        "outputId": "033bf658-0241-4e95-c95b-1d1ff710926c"
      },
      "source": [
        "import matplotlib.pyplot  as plt\n",
        "plt.plot(history2.history['loss'])\n",
        "plt.plot(history2.history['val_loss'])\n",
        "plt.title('model loss')\n",
        "plt.ylabel('loss')\n",
        "plt.xlabel('epoch')\n",
        "plt.legend(['train', 'test'], loc='upper left')\n",
        "plt.grid()\n",
        "plt.show()"
      ],
      "execution_count": 124,
      "outputs": [
        {
          "output_type": "display_data",
          "data": {
            "image/png": "[encoded data removed]",
            "text/plain": [
              "<Figure size 432x288 with 1 Axes>"
            ]
          },
          "metadata": {
            "tags": [],
            "needs_background": "light"
          }
        }
      ]
    },
    {
      "cell_type": "code",
      "metadata": {
        "id": "4QQMh9SAq6aP",
        "colab_type": "code",
        "colab": {
          "base_uri": "https://localhost:8080/",
          "height": 407
        },
        "outputId": "76fed3ee-24c2-483e-8a3a-1f48b59d5baf"
      },
      "source": [
        "# Initiliazing the sequential model\n",
        "model3 = Sequential()\n",
        "# Configuring the parameters\n",
        "model3.add(LSTM(32, input_shape=(timesteps, input_dim),return_sequences= True))\n",
        "# Adding a dropout layer\n",
        "model3.add(Dropout(0.7))\n",
        "model3.add(BatchNormalization())\n",
        "\n",
        "model3.add(LSTM(64))\n",
        "model3.add(Dropout(0.7))\n",
        "model3.add(BatchNormalization())\n",
        "\n",
        "# Adding a dense output layer with sigmoid activation\n",
        "model3.add(Dense(n_classes, activation='sigmoid'))\n",
        "\n",
        "model3.summary()\n",
        "\n",
        "# Compiling the model\n",
        "model3.compile(loss='categorical_crossentropy',\n",
        "              optimizer='rmsprop',\n",
        "              metrics=['accuracy'])"
      ],
      "execution_count": 226,
      "outputs": [
        {
          "output_type": "stream",
          "text": [
            "Model: \"sequential_38\"\n",
            "_________________________________________________________________\n",
            "Layer (type)                 Output Shape              Param #   \n",
            "=================================================================\n",
            "lstm_58 (LSTM)               (None, 128, 32)           5376      \n",
            "_________________________________________________________________\n",
            "dropout_51 (Dropout)         (None, 128, 32)           0         \n",
            "_________________________________________________________________\n",
            "batch_normalization_22 (Batc (None, 128, 32)           128       \n",
            "_________________________________________________________________\n",
            "lstm_59 (LSTM)               (None, 64)                24832     \n",
            "_________________________________________________________________\n",
            "dropout_52 (Dropout)         (None, 64)                0         \n",
            "_________________________________________________________________\n",
            "batch_normalization_23 (Batc (None, 64)                256       \n",
            "_________________________________________________________________\n",
            "dense_27 (Dense)             (None, 6)                 390       \n",
            "=================================================================\n",
            "Total params: 30,982\n",
            "Trainable params: 30,790\n",
            "Non-trainable params: 192\n",
            "_________________________________________________________________\n"
          ],
          "name": "stdout"
        }
      ]
    },
    {
      "cell_type": "code",
      "metadata": {
        "id": "1uEixrRv1a9D",
        "colab_type": "code",
        "colab": {
          "base_uri": "https://localhost:8080/",
          "height": 1000
        },
        "outputId": "837df7de-34ba-4ba9-c5d8-b2b7077d4b45"
      },
      "source": [
        "# Training the model\n",
        "history3=model3.fit(X_train,\n",
        "          Y_train,\n",
        "          batch_size=batch_size,\n",
        "          validation_split=0.33,\n",
        "          epochs=epochs)"
      ],
      "execution_count": 237,
      "outputs": [
        {
          "output_type": "stream",
          "text": [
            "Epoch 1/30\n",
            "308/308 [==============================] - ETA: 0s - loss: 0.8143 - accuracy: 0.6370\n",
            "Epoch 00001: val_accuracy did not improve from 0.67079\n",
            "308/308 [==============================] - 39s 125ms/step - loss: 0.8143 - accuracy: 0.6370 - val_loss: 0.9845 - val_accuracy: 0.6296\n",
            "Epoch 2/30\n",
            "308/308 [==============================] - ETA: 0s - loss: 0.7174 - accuracy: 0.6662\n",
            "Epoch 00002: val_accuracy improved from 0.67079 to 0.77585, saving model to model3.hdf5\n",
            "308/308 [==============================] - 38s 123ms/step - loss: 0.7174 - accuracy: 0.6662 - val_loss: 0.6756 - val_accuracy: 0.7759\n",
            "Epoch 3/30\n",
            "308/308 [==============================] - ETA: 0s - loss: 0.6431 - accuracy: 0.7062\n",
            "Epoch 00003: val_accuracy did not improve from 0.77585\n",
            "308/308 [==============================] - 40s 129ms/step - loss: 0.6431 - accuracy: 0.7062 - val_loss: 0.7072 - val_accuracy: 0.7425\n",
            "Epoch 4/30\n",
            "308/308 [==============================] - ETA: 0s - loss: 0.5504 - accuracy: 0.7773\n",
            "Epoch 00004: val_accuracy improved from 0.77585 to 0.79687, saving model to model3.hdf5\n",
            "308/308 [==============================] - 38s 124ms/step - loss: 0.5504 - accuracy: 0.7773 - val_loss: 0.5156 - val_accuracy: 0.7969\n",
            "Epoch 5/30\n",
            "308/308 [==============================] - ETA: 0s - loss: 0.3974 - accuracy: 0.8623\n",
            "Epoch 00005: val_accuracy improved from 0.79687 to 0.89699, saving model to model3.hdf5\n",
            "308/308 [==============================] - 38s 124ms/step - loss: 0.3974 - accuracy: 0.8623 - val_loss: 0.4164 - val_accuracy: 0.8970\n",
            "Epoch 6/30\n",
            "308/308 [==============================] - ETA: 0s - loss: 0.3217 - accuracy: 0.8979\n",
            "Epoch 00006: val_accuracy improved from 0.89699 to 0.92213, saving model to model3.hdf5\n",
            "308/308 [==============================] - 39s 126ms/step - loss: 0.3217 - accuracy: 0.8979 - val_loss: 0.2948 - val_accuracy: 0.9221\n",
            "Epoch 7/30\n",
            "308/308 [==============================] - ETA: 0s - loss: 0.2920 - accuracy: 0.9113\n",
            "Epoch 00007: val_accuracy did not improve from 0.92213\n",
            "308/308 [==============================] - 39s 125ms/step - loss: 0.2920 - accuracy: 0.9113 - val_loss: 0.3887 - val_accuracy: 0.9015\n",
            "Epoch 8/30\n",
            "308/308 [==============================] - ETA: 0s - loss: 0.2515 - accuracy: 0.9178\n",
            "Epoch 00008: val_accuracy did not improve from 0.92213\n",
            "308/308 [==============================] - 38s 124ms/step - loss: 0.2515 - accuracy: 0.9178 - val_loss: 0.3164 - val_accuracy: 0.9184\n",
            "Epoch 9/30\n",
            "308/308 [==============================] - ETA: 0s - loss: 0.2405 - accuracy: 0.9204\n",
            "Epoch 00009: val_accuracy improved from 0.92213 to 0.92872, saving model to model3.hdf5\n",
            "308/308 [==============================] - 39s 126ms/step - loss: 0.2405 - accuracy: 0.9204 - val_loss: 0.2845 - val_accuracy: 0.9287\n",
            "Epoch 10/30\n",
            "308/308 [==============================] - ETA: 0s - loss: 0.2249 - accuracy: 0.9245\n",
            "Epoch 00010: val_accuracy did not improve from 0.92872\n",
            "308/308 [==============================] - 37s 122ms/step - loss: 0.2249 - accuracy: 0.9245 - val_loss: 0.5018 - val_accuracy: 0.8916\n",
            "Epoch 11/30\n",
            "308/308 [==============================] - ETA: 0s - loss: 0.2165 - accuracy: 0.9249\n",
            "Epoch 00011: val_accuracy did not improve from 0.92872\n",
            "308/308 [==============================] - 39s 128ms/step - loss: 0.2165 - accuracy: 0.9249 - val_loss: 0.2805 - val_accuracy: 0.9069\n",
            "Epoch 12/30\n",
            "308/308 [==============================] - ETA: 0s - loss: 0.2003 - accuracy: 0.9342\n",
            "Epoch 00012: val_accuracy did not improve from 0.92872\n",
            "308/308 [==============================] - 38s 122ms/step - loss: 0.2003 - accuracy: 0.9342 - val_loss: 0.2433 - val_accuracy: 0.9271\n",
            "Epoch 13/30\n",
            "308/308 [==============================] - ETA: 0s - loss: 0.1964 - accuracy: 0.9310\n",
            "Epoch 00013: val_accuracy did not improve from 0.92872\n",
            "308/308 [==============================] - 38s 123ms/step - loss: 0.1964 - accuracy: 0.9310 - val_loss: 0.3081 - val_accuracy: 0.9279\n",
            "Epoch 14/30\n",
            "308/308 [==============================] - ETA: 0s - loss: 0.1862 - accuracy: 0.9304\n",
            "Epoch 00014: val_accuracy did not improve from 0.92872\n",
            "308/308 [==============================] - 38s 122ms/step - loss: 0.1862 - accuracy: 0.9304 - val_loss: 0.3972 - val_accuracy: 0.8842\n",
            "Epoch 15/30\n",
            "308/308 [==============================] - ETA: 0s - loss: 0.1907 - accuracy: 0.9342\n",
            "Epoch 00015: val_accuracy improved from 0.92872 to 0.94396, saving model to model3.hdf5\n",
            "308/308 [==============================] - 38s 122ms/step - loss: 0.1907 - accuracy: 0.9342 - val_loss: 0.2917 - val_accuracy: 0.9440\n",
            "Epoch 16/30\n",
            "308/308 [==============================] - ETA: 0s - loss: 0.1858 - accuracy: 0.9342\n",
            "Epoch 00016: val_accuracy did not improve from 0.94396\n",
            "308/308 [==============================] - 38s 122ms/step - loss: 0.1858 - accuracy: 0.9342 - val_loss: 0.3148 - val_accuracy: 0.9192\n",
            "Epoch 17/30\n",
            "308/308 [==============================] - ETA: 0s - loss: 0.1851 - accuracy: 0.9348\n",
            "Epoch 00017: val_accuracy did not improve from 0.94396\n",
            "308/308 [==============================] - 39s 125ms/step - loss: 0.1851 - accuracy: 0.9348 - val_loss: 0.2293 - val_accuracy: 0.9172\n",
            "Epoch 18/30\n",
            "308/308 [==============================] - ETA: 0s - loss: 0.1832 - accuracy: 0.9306\n",
            "Epoch 00018: val_accuracy did not improve from 0.94396\n",
            "308/308 [==============================] - 37s 122ms/step - loss: 0.1832 - accuracy: 0.9306 - val_loss: 0.3839 - val_accuracy: 0.9205\n",
            "Epoch 19/30\n",
            "308/308 [==============================] - ETA: 0s - loss: 0.1634 - accuracy: 0.9316\n",
            "Epoch 00019: val_accuracy did not improve from 0.94396\n",
            "308/308 [==============================] - 38s 123ms/step - loss: 0.1634 - accuracy: 0.9316 - val_loss: 0.4043 - val_accuracy: 0.9131\n",
            "Epoch 20/30\n",
            "308/308 [==============================] - ETA: 0s - loss: 0.1665 - accuracy: 0.9369\n",
            "Epoch 00020: val_accuracy did not improve from 0.94396\n",
            "308/308 [==============================] - 39s 127ms/step - loss: 0.1665 - accuracy: 0.9369 - val_loss: 0.3202 - val_accuracy: 0.9221\n",
            "Epoch 21/30\n",
            "308/308 [==============================] - ETA: 0s - loss: 0.1621 - accuracy: 0.9358\n",
            "Epoch 00021: val_accuracy did not improve from 0.94396\n",
            "308/308 [==============================] - 38s 122ms/step - loss: 0.1621 - accuracy: 0.9358 - val_loss: 0.3738 - val_accuracy: 0.9291\n",
            "Epoch 22/30\n",
            "308/308 [==============================] - ETA: 0s - loss: 0.1774 - accuracy: 0.9373\n",
            "Epoch 00022: val_accuracy did not improve from 0.94396\n",
            "308/308 [==============================] - 37s 121ms/step - loss: 0.1774 - accuracy: 0.9373 - val_loss: 0.3473 - val_accuracy: 0.9328\n",
            "Epoch 23/30\n",
            "308/308 [==============================] - ETA: 0s - loss: 0.1570 - accuracy: 0.9395\n",
            "Epoch 00023: val_accuracy improved from 0.94396 to 0.94726, saving model to model3.hdf5\n",
            "308/308 [==============================] - 38s 123ms/step - loss: 0.1570 - accuracy: 0.9395 - val_loss: 0.2456 - val_accuracy: 0.9473\n",
            "Epoch 24/30\n",
            "308/308 [==============================] - ETA: 0s - loss: 0.1554 - accuracy: 0.9409\n",
            "Epoch 00024: val_accuracy did not improve from 0.94726\n",
            "308/308 [==============================] - 38s 122ms/step - loss: 0.1554 - accuracy: 0.9409 - val_loss: 0.3255 - val_accuracy: 0.9201\n",
            "Epoch 25/30\n",
            "308/308 [==============================] - ETA: 0s - loss: 0.1644 - accuracy: 0.9407\n",
            "Epoch 00025: val_accuracy did not improve from 0.94726\n",
            "308/308 [==============================] - 38s 124ms/step - loss: 0.1644 - accuracy: 0.9407 - val_loss: 0.3134 - val_accuracy: 0.9081\n",
            "Epoch 26/30\n",
            "308/308 [==============================] - ETA: 0s - loss: 0.1555 - accuracy: 0.9399\n",
            "Epoch 00026: val_accuracy did not improve from 0.94726\n",
            "308/308 [==============================] - 38s 122ms/step - loss: 0.1555 - accuracy: 0.9399 - val_loss: 0.4808 - val_accuracy: 0.8920\n",
            "Epoch 27/30\n",
            "308/308 [==============================] - ETA: 0s - loss: 0.1691 - accuracy: 0.9385\n",
            "Epoch 00027: val_accuracy did not improve from 0.94726\n",
            "308/308 [==============================] - 37s 122ms/step - loss: 0.1691 - accuracy: 0.9385 - val_loss: 0.5830 - val_accuracy: 0.8991\n",
            "Epoch 28/30\n",
            "308/308 [==============================] - ETA: 0s - loss: 0.1521 - accuracy: 0.9436\n",
            "Epoch 00028: val_accuracy did not improve from 0.94726\n",
            "308/308 [==============================] - 39s 128ms/step - loss: 0.1521 - accuracy: 0.9436 - val_loss: 0.3583 - val_accuracy: 0.9234\n",
            "Epoch 29/30\n",
            "308/308 [==============================] - ETA: 0s - loss: 0.1423 - accuracy: 0.9399\n",
            "Epoch 00029: val_accuracy did not improve from 0.94726\n",
            "308/308 [==============================] - 37s 121ms/step - loss: 0.1423 - accuracy: 0.9399 - val_loss: 0.2860 - val_accuracy: 0.9209\n",
            "Epoch 30/30\n",
            "308/308 [==============================] - ETA: 0s - loss: 0.1500 - accuracy: 0.9438\n",
            "Epoch 00030: val_accuracy did not improve from 0.94726\n",
            "308/308 [==============================] - 37s 121ms/step - loss: 0.1500 - accuracy: 0.9438 - val_loss: 0.2755 - val_accuracy: 0.9320\n"
          ],
          "name": "stdout"
        }
      ]
    },
    {
      "cell_type": "code",
      "metadata": {
        "id": "6pw5yxqo9Jpx",
        "colab_type": "code",
        "colab": {
          "base_uri": "https://localhost:8080/",
          "height": 194
        },
        "outputId": "7fdb9b6d-e494-438a-93c2-b423ca00ec7d"
      },
      "source": [
        "# Confusion Matrix\n",
        "print(confusion_matrix(Y_test, model3.predict(X_test)))"
      ],
      "execution_count": 243,
      "outputs": [
        {
          "output_type": "stream",
          "text": [
            "Pred                LAYING  SITTING  ...  WALKING_DOWNSTAIRS  WALKING_UPSTAIRS\n",
            "True                                 ...                                      \n",
            "LAYING                 517        0  ...                   0                13\n",
            "SITTING                  2      451  ...                   0                 0\n",
            "STANDING                 0      125  ...                   0                 0\n",
            "WALKING                  0        1  ...                   1                 1\n",
            "WALKING_DOWNSTAIRS       0        0  ...                 388                21\n",
            "WALKING_UPSTAIRS         0        0  ...                   0               471\n",
            "\n",
            "[6 rows x 6 columns]\n"
          ],
          "name": "stdout"
        }
      ]
    },
    {
      "cell_type": "code",
      "metadata": {
        "id": "wYde58iw2-Cl",
        "colab_type": "code",
        "colab": {
          "base_uri": "https://localhost:8080/",
          "height": 418
        },
        "outputId": "80f2115c-af09-4492-c89d-dc9032442163"
      },
      "source": [
        "score = model3.evaluate(X_test, Y_test)\n",
        "print('\\n')\n",
        "print('-'*100)\n",
        "print('\\n')\n",
        "print(f'model accuracy is {score[1]}')\n",
        "\n",
        "import matplotlib.pyplot  as plt\n",
        "plt.plot(history3.history['loss'])\n",
        "plt.plot(history3.history['val_loss'])\n",
        "plt.title('model loss')\n",
        "plt.ylabel('loss')\n",
        "plt.xlabel('epoch')\n",
        "plt.legend(['train', 'test'], loc='upper left')\n",
        "plt.grid()\n",
        "plt.show()"
      ],
      "execution_count": 245,
      "outputs": [
        {
          "output_type": "stream",
          "text": [
            "93/93 [==============================] - 3s 34ms/step - loss: 0.3121 - accuracy: 0.9223\n",
            "\n",
            "\n",
            "----------------------------------------------------------------------------------------------------\n",
            "\n",
            "\n",
            "model accuracy is 0.9222938418388367\n"
          ],
          "name": "stdout"
        },
        {
          "output_type": "display_data",
          "data": {
            "image/png": "[encoded data removed]",
            "text/plain": [
              "<Figure size 432x288 with 1 Axes>"
            ]
          },
          "metadata": {
            "tags": [],
            "needs_background": "light"
          }
        }
      ]
    },
    {
      "cell_type": "code",
      "metadata": {
        "id": "5Nlk3lEf88tU",
        "colab_type": "code",
        "colab": {
          "base_uri": "https://localhost:8080/",
          "height": 514
        },
        "outputId": "797a98b5-eaf8-4ac3-bbd9-cb13c22ccf09"
      },
      "source": [
        "# Initiliazing the sequential model\n",
        "model4 = Sequential()\n",
        "# Configuring the parameters\n",
        "model4.add(LSTM(8, input_shape=(timesteps, input_dim),return_sequences= True))\n",
        "# Adding a dropout layer\n",
        "model4.add(Dropout(0.3))\n",
        "model4.add(BatchNormalization())\n",
        "\n",
        "model4.add(LSTM(16,return_sequences= True))\n",
        "model4.add(Dropout(0.5))\n",
        "model4.add(BatchNormalization())\n",
        "\n",
        "model4.add(LSTM(32))\n",
        "model4.add(Dropout(0.7))\n",
        "model4.add(BatchNormalization())\n",
        "\n",
        "# Adding a dense output layer with sigmoid activation\n",
        "model4.add(Dense(n_classes, activation='sigmoid'))\n",
        "model4.summary()\n",
        "\n",
        "# Compiling the model\n",
        "model4.compile(loss='categorical_crossentropy',\n",
        "              optimizer='rmsprop',\n",
        "              metrics=['accuracy'])"
      ],
      "execution_count": 267,
      "outputs": [
        {
          "output_type": "stream",
          "text": [
            "Model: \"sequential_45\"\n",
            "_________________________________________________________________\n",
            "Layer (type)                 Output Shape              Param #   \n",
            "=================================================================\n",
            "lstm_75 (LSTM)               (None, 128, 8)            576       \n",
            "_________________________________________________________________\n",
            "dropout_65 (Dropout)         (None, 128, 8)            0         \n",
            "_________________________________________________________________\n",
            "batch_normalization_36 (Batc (None, 128, 8)            32        \n",
            "_________________________________________________________________\n",
            "lstm_76 (LSTM)               (None, 128, 16)           1600      \n",
            "_________________________________________________________________\n",
            "dropout_66 (Dropout)         (None, 128, 16)           0         \n",
            "_________________________________________________________________\n",
            "batch_normalization_37 (Batc (None, 128, 16)           64        \n",
            "_________________________________________________________________\n",
            "lstm_77 (LSTM)               (None, 32)                6272      \n",
            "_________________________________________________________________\n",
            "dropout_67 (Dropout)         (None, 32)                0         \n",
            "_________________________________________________________________\n",
            "batch_normalization_38 (Batc (None, 32)                128       \n",
            "_________________________________________________________________\n",
            "dense_31 (Dense)             (None, 6)                 198       \n",
            "=================================================================\n",
            "Total params: 8,870\n",
            "Trainable params: 8,758\n",
            "Non-trainable params: 112\n",
            "_________________________________________________________________\n"
          ],
          "name": "stdout"
        }
      ]
    },
    {
      "cell_type": "code",
      "metadata": {
        "id": "CpOGOEL2dH0b",
        "colab_type": "code",
        "colab": {
          "base_uri": "https://localhost:8080/",
          "height": 1000
        },
        "outputId": "dd9ba0a2-2e59-4d3f-e5fc-d204f33ad1e1"
      },
      "source": [
        "filepath = \"model4.hdf5\"\n",
        "\n",
        "# Keep only a single checkpoint, the best over test accuracy.\n",
        "checkpoint = tf.keras.callbacks.ModelCheckpoint(filepath,\n",
        "                            monitor='val_accuracy',\n",
        "                            verbose=1,\n",
        "                            save_best_only=True,\n",
        "                            mode='auto')\n",
        "\n",
        "# Training the model\n",
        "history4=model4.fit(X_train,\n",
        "          Y_train,\n",
        "          batch_size=batch_size,\n",
        "          validation_split=0.33,\n",
        "          epochs=epochs,\n",
        "          callbacks=[checkpoint])"
      ],
      "execution_count": 268,
      "outputs": [
        {
          "output_type": "stream",
          "text": [
            "Epoch 1/30\n",
            "308/308 [==============================] - ETA: 0s - loss: 1.4209 - accuracy: 0.4386\n",
            "Epoch 00001: val_accuracy improved from -inf to 0.61846, saving model to model4.hdf5\n",
            "308/308 [==============================] - 51s 166ms/step - loss: 1.4209 - accuracy: 0.4386 - val_loss: 1.0668 - val_accuracy: 0.6185\n",
            "Epoch 2/30\n",
            "308/308 [==============================] - ETA: 0s - loss: 1.0284 - accuracy: 0.5523\n",
            "Epoch 00002: val_accuracy improved from 0.61846 to 0.62835, saving model to model4.hdf5\n",
            "308/308 [==============================] - 49s 158ms/step - loss: 1.0284 - accuracy: 0.5523 - val_loss: 0.8194 - val_accuracy: 0.6283\n",
            "Epoch 3/30\n",
            "308/308 [==============================] - ETA: 0s - loss: 0.8877 - accuracy: 0.6234\n",
            "Epoch 00003: val_accuracy improved from 0.62835 to 0.63947, saving model to model4.hdf5\n",
            "308/308 [==============================] - 49s 159ms/step - loss: 0.8877 - accuracy: 0.6234 - val_loss: 0.7776 - val_accuracy: 0.6395\n",
            "Epoch 4/30\n",
            "308/308 [==============================] - ETA: 0s - loss: 0.7913 - accuracy: 0.6384\n",
            "Epoch 00004: val_accuracy improved from 0.63947 to 0.73795, saving model to model4.hdf5\n",
            "308/308 [==============================] - 49s 159ms/step - loss: 0.7913 - accuracy: 0.6384 - val_loss: 0.7430 - val_accuracy: 0.7379\n",
            "Epoch 5/30\n",
            "308/308 [==============================] - ETA: 0s - loss: 0.7437 - accuracy: 0.6731\n",
            "Epoch 00005: val_accuracy improved from 0.73795 to 0.83024, saving model to model4.hdf5\n",
            "308/308 [==============================] - 48s 154ms/step - loss: 0.7437 - accuracy: 0.6731 - val_loss: 0.6578 - val_accuracy: 0.8302\n",
            "Epoch 6/30\n",
            "308/308 [==============================] - ETA: 0s - loss: 0.6974 - accuracy: 0.7098\n",
            "Epoch 00006: val_accuracy did not improve from 0.83024\n",
            "308/308 [==============================] - 47s 153ms/step - loss: 0.6974 - accuracy: 0.7098 - val_loss: 0.6332 - val_accuracy: 0.7833\n",
            "Epoch 7/30\n",
            "308/308 [==============================] - ETA: 0s - loss: 0.6341 - accuracy: 0.7541\n",
            "Epoch 00007: val_accuracy improved from 0.83024 to 0.84714, saving model to model4.hdf5\n",
            "308/308 [==============================] - 48s 155ms/step - loss: 0.6341 - accuracy: 0.7541 - val_loss: 0.5832 - val_accuracy: 0.8471\n",
            "Epoch 8/30\n",
            "308/308 [==============================] - ETA: 0s - loss: 0.5420 - accuracy: 0.8059\n",
            "Epoch 00008: val_accuracy improved from 0.84714 to 0.89658, saving model to model4.hdf5\n",
            "308/308 [==============================] - 52s 168ms/step - loss: 0.5420 - accuracy: 0.8059 - val_loss: 0.4593 - val_accuracy: 0.8966\n",
            "Epoch 9/30\n",
            "308/308 [==============================] - ETA: 0s - loss: 0.5130 - accuracy: 0.8282\n",
            "Epoch 00009: val_accuracy improved from 0.89658 to 0.90812, saving model to model4.hdf5\n",
            "308/308 [==============================] - 48s 155ms/step - loss: 0.5130 - accuracy: 0.8282 - val_loss: 0.4103 - val_accuracy: 0.9081\n",
            "Epoch 10/30\n",
            "308/308 [==============================] - ETA: 0s - loss: 0.4608 - accuracy: 0.8536\n",
            "Epoch 00010: val_accuracy did not improve from 0.90812\n",
            "308/308 [==============================] - 48s 155ms/step - loss: 0.4608 - accuracy: 0.8536 - val_loss: 0.4384 - val_accuracy: 0.8797\n",
            "Epoch 11/30\n",
            "308/308 [==============================] - ETA: 0s - loss: 0.4259 - accuracy: 0.8623\n",
            "Epoch 00011: val_accuracy did not improve from 0.90812\n",
            "308/308 [==============================] - 47s 154ms/step - loss: 0.4259 - accuracy: 0.8623 - val_loss: 0.5169 - val_accuracy: 0.8232\n",
            "Epoch 12/30\n",
            "308/308 [==============================] - ETA: 0s - loss: 0.3922 - accuracy: 0.8729\n",
            "Epoch 00012: val_accuracy improved from 0.90812 to 0.92213, saving model to model4.hdf5\n",
            "308/308 [==============================] - 47s 153ms/step - loss: 0.3922 - accuracy: 0.8729 - val_loss: 0.3394 - val_accuracy: 0.9221\n",
            "Epoch 13/30\n",
            "308/308 [==============================] - ETA: 0s - loss: 0.3531 - accuracy: 0.8857\n",
            "Epoch 00013: val_accuracy improved from 0.92213 to 0.92913, saving model to model4.hdf5\n",
            "308/308 [==============================] - 47s 153ms/step - loss: 0.3531 - accuracy: 0.8857 - val_loss: 0.3259 - val_accuracy: 0.9291\n",
            "Epoch 14/30\n",
            "308/308 [==============================] - ETA: 0s - loss: 0.3538 - accuracy: 0.8835\n",
            "Epoch 00014: val_accuracy did not improve from 0.92913\n",
            "308/308 [==============================] - 48s 157ms/step - loss: 0.3538 - accuracy: 0.8835 - val_loss: 0.4094 - val_accuracy: 0.8970\n",
            "Epoch 15/30\n",
            "308/308 [==============================] - ETA: 0s - loss: 0.3575 - accuracy: 0.8828\n",
            "Epoch 00015: val_accuracy did not improve from 0.92913\n",
            "308/308 [==============================] - 47s 153ms/step - loss: 0.3575 - accuracy: 0.8828 - val_loss: 0.3555 - val_accuracy: 0.9147\n",
            "Epoch 16/30\n",
            "308/308 [==============================] - ETA: 0s - loss: 0.3113 - accuracy: 0.8969\n",
            "Epoch 00016: val_accuracy did not improve from 0.92913\n",
            "308/308 [==============================] - 47s 152ms/step - loss: 0.3113 - accuracy: 0.8969 - val_loss: 0.4032 - val_accuracy: 0.9085\n",
            "Epoch 17/30\n",
            "308/308 [==============================] - ETA: 0s - loss: 0.3101 - accuracy: 0.8975\n",
            "Epoch 00017: val_accuracy did not improve from 0.92913\n",
            "308/308 [==============================] - 47s 153ms/step - loss: 0.3101 - accuracy: 0.8975 - val_loss: 0.4618 - val_accuracy: 0.8797\n",
            "Epoch 18/30\n",
            "308/308 [==============================] - ETA: 0s - loss: 0.3311 - accuracy: 0.8920\n",
            "Epoch 00018: val_accuracy did not improve from 0.92913\n",
            "308/308 [==============================] - 47s 152ms/step - loss: 0.3311 - accuracy: 0.8920 - val_loss: 0.4455 - val_accuracy: 0.8871\n",
            "Epoch 19/30\n",
            "308/308 [==============================] - ETA: 0s - loss: 0.2739 - accuracy: 0.9052\n",
            "Epoch 00019: val_accuracy did not improve from 0.92913\n",
            "308/308 [==============================] - 47s 152ms/step - loss: 0.2739 - accuracy: 0.9052 - val_loss: 0.4016 - val_accuracy: 0.9180\n",
            "Epoch 20/30\n",
            "308/308 [==============================] - ETA: 0s - loss: 0.2805 - accuracy: 0.9038\n",
            "Epoch 00020: val_accuracy improved from 0.92913 to 0.92954, saving model to model4.hdf5\n",
            "308/308 [==============================] - 48s 156ms/step - loss: 0.2805 - accuracy: 0.9038 - val_loss: 0.3438 - val_accuracy: 0.9295\n",
            "Epoch 21/30\n",
            "308/308 [==============================] - ETA: 0s - loss: 0.2862 - accuracy: 0.9048\n",
            "Epoch 00021: val_accuracy did not improve from 0.92954\n",
            "308/308 [==============================] - 48s 154ms/step - loss: 0.2862 - accuracy: 0.9048 - val_loss: 0.4158 - val_accuracy: 0.9168\n",
            "Epoch 22/30\n",
            "308/308 [==============================] - ETA: 0s - loss: 0.2928 - accuracy: 0.9040\n",
            "Epoch 00022: val_accuracy improved from 0.92954 to 0.93325, saving model to model4.hdf5\n",
            "308/308 [==============================] - 47s 153ms/step - loss: 0.2928 - accuracy: 0.9040 - val_loss: 0.3491 - val_accuracy: 0.9333\n",
            "Epoch 23/30\n",
            "308/308 [==============================] - ETA: 0s - loss: 0.2722 - accuracy: 0.9050\n",
            "Epoch 00023: val_accuracy improved from 0.93325 to 0.94149, saving model to model4.hdf5\n",
            "308/308 [==============================] - 48s 156ms/step - loss: 0.2722 - accuracy: 0.9050 - val_loss: 0.3066 - val_accuracy: 0.9415\n",
            "Epoch 24/30\n",
            "308/308 [==============================] - ETA: 0s - loss: 0.2757 - accuracy: 0.9121\n",
            "Epoch 00024: val_accuracy did not improve from 0.94149\n",
            "308/308 [==============================] - 48s 155ms/step - loss: 0.2757 - accuracy: 0.9121 - val_loss: 0.4318 - val_accuracy: 0.8859\n",
            "Epoch 25/30\n",
            "308/308 [==============================] - ETA: 0s - loss: 0.2660 - accuracy: 0.9078\n",
            "Epoch 00025: val_accuracy did not improve from 0.94149\n",
            "308/308 [==============================] - 48s 155ms/step - loss: 0.2660 - accuracy: 0.9078 - val_loss: 0.3996 - val_accuracy: 0.9209\n",
            "Epoch 26/30\n",
            "308/308 [==============================] - ETA: 0s - loss: 0.2700 - accuracy: 0.9072\n",
            "Epoch 00026: val_accuracy did not improve from 0.94149\n",
            "308/308 [==============================] - 47s 153ms/step - loss: 0.2700 - accuracy: 0.9072 - val_loss: 0.4258 - val_accuracy: 0.8949\n",
            "Epoch 27/30\n",
            "308/308 [==============================] - ETA: 0s - loss: 0.2652 - accuracy: 0.9078\n",
            "Epoch 00027: val_accuracy did not improve from 0.94149\n",
            "308/308 [==============================] - 49s 160ms/step - loss: 0.2652 - accuracy: 0.9078 - val_loss: 0.3515 - val_accuracy: 0.9349\n",
            "Epoch 28/30\n",
            "308/308 [==============================] - ETA: 0s - loss: 0.2355 - accuracy: 0.9182\n",
            "Epoch 00028: val_accuracy did not improve from 0.94149\n",
            "308/308 [==============================] - 47s 154ms/step - loss: 0.2355 - accuracy: 0.9182 - val_loss: 0.3540 - val_accuracy: 0.9271\n",
            "Epoch 29/30\n",
            "308/308 [==============================] - ETA: 0s - loss: 0.2427 - accuracy: 0.9172\n",
            "Epoch 00029: val_accuracy did not improve from 0.94149\n",
            "308/308 [==============================] - 48s 157ms/step - loss: 0.2427 - accuracy: 0.9172 - val_loss: 0.4068 - val_accuracy: 0.9254\n",
            "Epoch 30/30\n",
            "308/308 [==============================] - ETA: 0s - loss: 0.2526 - accuracy: 0.9084\n",
            "Epoch 00030: val_accuracy did not improve from 0.94149\n",
            "308/308 [==============================] - 48s 156ms/step - loss: 0.2526 - accuracy: 0.9084 - val_loss: 0.4157 - val_accuracy: 0.9052\n"
          ],
          "name": "stdout"
        }
      ]
    },
    {
      "cell_type": "code",
      "metadata": {
        "id": "rGuy7fwhdZbQ",
        "colab_type": "code",
        "colab": {
          "base_uri": "https://localhost:8080/",
          "height": 194
        },
        "outputId": "86b568de-b9dd-4947-8b59-00462ace244c"
      },
      "source": [
        "# Confusion Matrix\n",
        "print(confusion_matrix(Y_test, model4.predict(X_test)))"
      ],
      "execution_count": 269,
      "outputs": [
        {
          "output_type": "stream",
          "text": [
            "Pred                LAYING  SITTING  ...  WALKING_DOWNSTAIRS  WALKING_UPSTAIRS\n",
            "True                                 ...                                      \n",
            "LAYING                 509        1  ...                   0                26\n",
            "SITTING                  0      435  ...                   0                 4\n",
            "STANDING                 0      128  ...                   0                 0\n",
            "WALKING                  0       16  ...                   1                27\n",
            "WALKING_DOWNSTAIRS       0        0  ...                 414                 5\n",
            "WALKING_UPSTAIRS         0        5  ...                  22               429\n",
            "\n",
            "[6 rows x 6 columns]\n"
          ],
          "name": "stdout"
        }
      ]
    },
    {
      "cell_type": "code",
      "metadata": {
        "id": "Ck8E1Jl6dcG0",
        "colab_type": "code",
        "colab": {
          "base_uri": "https://localhost:8080/",
          "height": 418
        },
        "outputId": "db1f4107-99f2-49fd-e180-1a76e9d5e23a"
      },
      "source": [
        "score = model4.evaluate(X_test, Y_test)\n",
        "print('\\n')\n",
        "print('-'*100)\n",
        "print('\\n')\n",
        "print(f'model accuracy is {score[1]}')\n",
        "\n",
        "import matplotlib.pyplot  as plt\n",
        "plt.plot(history4.history['loss'])\n",
        "plt.plot(history4.history['val_loss'])\n",
        "plt.title('model loss')\n",
        "plt.ylabel('loss')\n",
        "plt.xlabel('epoch')\n",
        "plt.legend(['train', 'test'], loc='upper left')\n",
        "plt.grid()\n",
        "plt.show()"
      ],
      "execution_count": 270,
      "outputs": [
        {
          "output_type": "stream",
          "text": [
            "93/93 [==============================] - 3s 29ms/step - loss: 0.4054 - accuracy: 0.8965\n",
            "\n",
            "\n",
            "----------------------------------------------------------------------------------------------------\n",
            "\n",
            "\n",
            "model accuracy is 0.8965049386024475\n"
          ],
          "name": "stdout"
        },
        {
          "output_type": "display_data",
          "data": {
            "image/png": "[encoded data removed]",
            "text/plain": [
              "<Figure size 432x288 with 1 Axes>"
            ]
          },
          "metadata": {
            "tags": [],
            "needs_background": "light"
          }
        }
      ]
    },
    {
      "cell_type": "code",
      "metadata": {
        "id": "Jv3vvhWFiHTh",
        "colab_type": "code",
        "colab": {
          "base_uri": "https://localhost:8080/",
          "height": 514
        },
        "outputId": "136b6c13-8881-4cd7-8ba4-f39db3770eb4"
      },
      "source": [
        "# Initiliazing the sequential model\n",
        "model4_1 = Sequential()\n",
        "# Configuring the parameters\n",
        "model4_1.add(LSTM(8, input_shape=(timesteps, input_dim),return_sequences= True))\n",
        "# Adding a dropout layer\n",
        "model4_1.add(Dropout(0.3))\n",
        "model4_1.add(BatchNormalization())\n",
        "\n",
        "model4_1.add(LSTM(16,return_sequences= True))\n",
        "model4_1.add(Dropout(0.5))\n",
        "model4_1.add(BatchNormalization())\n",
        "\n",
        "model4_1.add(LSTM(32))\n",
        "model4_1.add(Dropout(0.7))\n",
        "model4_1.add(BatchNormalization())\n",
        "\n",
        "# Adding a dense output layer with sigmoid activation\n",
        "model4_1.add(Dense(n_classes, activation='sigmoid'))\n",
        "model4_1.summary()\n",
        "\n",
        "# Compiling the model\n",
        "model4_1.compile(loss='categorical_crossentropy',\n",
        "              optimizer='rmsprop',\n",
        "              metrics=['accuracy'])"
      ],
      "execution_count": 271,
      "outputs": [
        {
          "output_type": "stream",
          "text": [
            "Model: \"sequential_46\"\n",
            "_________________________________________________________________\n",
            "Layer (type)                 Output Shape              Param #   \n",
            "=================================================================\n",
            "lstm_78 (LSTM)               (None, 128, 8)            576       \n",
            "_________________________________________________________________\n",
            "dropout_68 (Dropout)         (None, 128, 8)            0         \n",
            "_________________________________________________________________\n",
            "batch_normalization_39 (Batc (None, 128, 8)            32        \n",
            "_________________________________________________________________\n",
            "lstm_79 (LSTM)               (None, 128, 16)           1600      \n",
            "_________________________________________________________________\n",
            "dropout_69 (Dropout)         (None, 128, 16)           0         \n",
            "_________________________________________________________________\n",
            "batch_normalization_40 (Batc (None, 128, 16)           64        \n",
            "_________________________________________________________________\n",
            "lstm_80 (LSTM)               (None, 32)                6272      \n",
            "_________________________________________________________________\n",
            "dropout_70 (Dropout)         (None, 32)                0         \n",
            "_________________________________________________________________\n",
            "batch_normalization_41 (Batc (None, 32)                128       \n",
            "_________________________________________________________________\n",
            "dense_32 (Dense)             (None, 6)                 198       \n",
            "=================================================================\n",
            "Total params: 8,870\n",
            "Trainable params: 8,758\n",
            "Non-trainable params: 112\n",
            "_________________________________________________________________\n"
          ],
          "name": "stdout"
        }
      ]
    },
    {
      "cell_type": "code",
      "metadata": {
        "id": "8dWDUePtjajN",
        "colab_type": "code",
        "colab": {}
      },
      "source": [
        "model4_1.load_weights('model4.hdf5')\n",
        "\n",
        "# Compiling the model\n",
        "model4_1.compile(loss='categorical_crossentropy',\n",
        "              optimizer='rmsprop',\n",
        "              metrics=['accuracy'])"
      ],
      "execution_count": 272,
      "outputs": []
    },
    {
      "cell_type": "code",
      "metadata": {
        "id": "y5rO7qJmjdSw",
        "colab_type": "code",
        "colab": {
          "base_uri": "https://localhost:8080/",
          "height": 141
        },
        "outputId": "68a6f316-f3df-4dfd-d537-9c8911d7fe7b"
      },
      "source": [
        "score = model4_1.evaluate(X_train, Y_train)\n",
        "print('\\n')\n",
        "print('-'*100)\n",
        "print('\\n')\n",
        "print(f'model accuracy is {score[1]}')"
      ],
      "execution_count": 274,
      "outputs": [
        {
          "output_type": "stream",
          "text": [
            "230/230 [==============================] - 6s 28ms/step - loss: 0.1911 - accuracy: 0.9482\n",
            "\n",
            "\n",
            "----------------------------------------------------------------------------------------------------\n",
            "\n",
            "\n",
            "model accuracy is 0.9481773376464844\n"
          ],
          "name": "stdout"
        }
      ]
    },
    {
      "cell_type": "code",
      "metadata": {
        "id": "mpkqFwIjjq7e",
        "colab_type": "code",
        "colab": {
          "base_uri": "https://localhost:8080/",
          "height": 514
        },
        "outputId": "8baa7d61-83b5-443d-e1e1-7736b97e0dfd"
      },
      "source": [
        "# Initiliazing the sequential model\n",
        "model5 = Sequential()\n",
        "# Configuring the parameters\n",
        "model5.add(LSTM(16, input_shape=(timesteps, input_dim),return_sequences= True))\n",
        "# Adding a dropout layer\n",
        "model5.add(Dropout(0.3))\n",
        "model5.add(BatchNormalization())\n",
        "\n",
        "model5.add(LSTM(32,return_sequences= True))\n",
        "model5.add(Dropout(0.5))\n",
        "model5.add(BatchNormalization())\n",
        "\n",
        "model5.add(LSTM(64))\n",
        "model5.add(Dropout(0.7))\n",
        "model5.add(BatchNormalization())\n",
        "\n",
        "# Adding a dense output layer with sigmoid activation\n",
        "model5.add(Dense(n_classes, activation='sigmoid'))\n",
        "model5.summary()\n",
        "\n",
        "# Compiling the model\n",
        "model5.compile(loss='categorical_crossentropy',\n",
        "              optimizer='rmsprop',\n",
        "              metrics=['accuracy'])"
      ],
      "execution_count": 277,
      "outputs": [
        {
          "output_type": "stream",
          "text": [
            "Model: \"sequential_48\"\n",
            "_________________________________________________________________\n",
            "Layer (type)                 Output Shape              Param #   \n",
            "=================================================================\n",
            "lstm_84 (LSTM)               (None, 128, 16)           1664      \n",
            "_________________________________________________________________\n",
            "dropout_74 (Dropout)         (None, 128, 16)           0         \n",
            "_________________________________________________________________\n",
            "batch_normalization_45 (Batc (None, 128, 16)           64        \n",
            "_________________________________________________________________\n",
            "lstm_85 (LSTM)               (None, 128, 32)           6272      \n",
            "_________________________________________________________________\n",
            "dropout_75 (Dropout)         (None, 128, 32)           0         \n",
            "_________________________________________________________________\n",
            "batch_normalization_46 (Batc (None, 128, 32)           128       \n",
            "_________________________________________________________________\n",
            "lstm_86 (LSTM)               (None, 64)                24832     \n",
            "_________________________________________________________________\n",
            "dropout_76 (Dropout)         (None, 64)                0         \n",
            "_________________________________________________________________\n",
            "batch_normalization_47 (Batc (None, 64)                256       \n",
            "_________________________________________________________________\n",
            "dense_34 (Dense)             (None, 6)                 390       \n",
            "=================================================================\n",
            "Total params: 33,606\n",
            "Trainable params: 33,382\n",
            "Non-trainable params: 224\n",
            "_________________________________________________________________\n"
          ],
          "name": "stdout"
        }
      ]
    },
    {
      "cell_type": "code",
      "metadata": {
        "id": "1ZBWxmGuuEmX",
        "colab_type": "code",
        "colab": {
          "base_uri": "https://localhost:8080/",
          "height": 1000
        },
        "outputId": "1fbaa39e-e65b-412c-e444-201148d1e2a9"
      },
      "source": [
        "filepath = \"model5.hdf5\"\n",
        "\n",
        "# Keep only a single checkpoint, the best over test accuracy.\n",
        "checkpoint = tf.keras.callbacks.ModelCheckpoint(filepath,\n",
        "                            monitor='val_accuracy',\n",
        "                            verbose=1,\n",
        "                            save_best_only=True,\n",
        "                            mode='auto')\n",
        "\n",
        "# Training the model\n",
        "history5=model5.fit(X_train,\n",
        "          Y_train,\n",
        "          batch_size=batch_size,\n",
        "          validation_split=0.33,\n",
        "          epochs=epochs,\n",
        "          callbacks=[checkpoint])"
      ],
      "execution_count": 281,
      "outputs": [
        {
          "output_type": "stream",
          "text": [
            "Epoch 1/30\n",
            "308/308 [==============================] - ETA: 0s - loss: 0.3002 - accuracy: 0.8960\n",
            "Epoch 00001: val_accuracy improved from -inf to 0.92048, saving model to model5.hdf5\n",
            "308/308 [==============================] - 55s 178ms/step - loss: 0.3002 - accuracy: 0.8960 - val_loss: 0.3959 - val_accuracy: 0.9205\n",
            "Epoch 2/30\n",
            "308/308 [==============================] - ETA: 0s - loss: 0.2605 - accuracy: 0.9129\n",
            "Epoch 00002: val_accuracy improved from 0.92048 to 0.92419, saving model to model5.hdf5\n",
            "308/308 [==============================] - 53s 171ms/step - loss: 0.2605 - accuracy: 0.9129 - val_loss: 0.3494 - val_accuracy: 0.9242\n",
            "Epoch 3/30\n",
            "308/308 [==============================] - ETA: 0s - loss: 0.2778 - accuracy: 0.9131\n",
            "Epoch 00003: val_accuracy improved from 0.92419 to 0.92707, saving model to model5.hdf5\n",
            "308/308 [==============================] - 52s 170ms/step - loss: 0.2778 - accuracy: 0.9131 - val_loss: 0.3488 - val_accuracy: 0.9271\n",
            "Epoch 4/30\n",
            "308/308 [==============================] - ETA: 0s - loss: 0.2308 - accuracy: 0.9184\n",
            "Epoch 00004: val_accuracy improved from 0.92707 to 0.92913, saving model to model5.hdf5\n",
            "308/308 [==============================] - 52s 169ms/step - loss: 0.2308 - accuracy: 0.9184 - val_loss: 0.3894 - val_accuracy: 0.9291\n",
            "Epoch 5/30\n",
            "308/308 [==============================] - ETA: 0s - loss: 0.2125 - accuracy: 0.9269\n",
            "Epoch 00005: val_accuracy improved from 0.92913 to 0.93737, saving model to model5.hdf5\n",
            "308/308 [==============================] - 53s 172ms/step - loss: 0.2125 - accuracy: 0.9269 - val_loss: 0.3099 - val_accuracy: 0.9374\n",
            "Epoch 6/30\n",
            "308/308 [==============================] - ETA: 0s - loss: 0.2183 - accuracy: 0.9267\n",
            "Epoch 00006: val_accuracy did not improve from 0.93737\n",
            "308/308 [==============================] - 52s 168ms/step - loss: 0.2183 - accuracy: 0.9267 - val_loss: 0.3374 - val_accuracy: 0.9089\n",
            "Epoch 7/30\n",
            "308/308 [==============================] - ETA: 0s - loss: 0.2039 - accuracy: 0.9279\n",
            "Epoch 00007: val_accuracy did not improve from 0.93737\n",
            "308/308 [==============================] - 53s 172ms/step - loss: 0.2039 - accuracy: 0.9279 - val_loss: 0.3103 - val_accuracy: 0.9361\n",
            "Epoch 8/30\n",
            "308/308 [==============================] - ETA: 0s - loss: 0.1777 - accuracy: 0.9356\n",
            "Epoch 00008: val_accuracy did not improve from 0.93737\n",
            "308/308 [==============================] - 53s 173ms/step - loss: 0.1777 - accuracy: 0.9356 - val_loss: 0.3726 - val_accuracy: 0.9308\n",
            "Epoch 9/30\n",
            "308/308 [==============================] - ETA: 0s - loss: 0.1928 - accuracy: 0.9312\n",
            "Epoch 00009: val_accuracy did not improve from 0.93737\n",
            "308/308 [==============================] - 53s 171ms/step - loss: 0.1928 - accuracy: 0.9312 - val_loss: 0.4570 - val_accuracy: 0.9110\n",
            "Epoch 10/30\n",
            "308/308 [==============================] - ETA: 0s - loss: 0.1831 - accuracy: 0.9328\n",
            "Epoch 00010: val_accuracy did not improve from 0.93737\n",
            "308/308 [==============================] - 52s 169ms/step - loss: 0.1831 - accuracy: 0.9328 - val_loss: 0.3272 - val_accuracy: 0.9374\n",
            "Epoch 11/30\n",
            "308/308 [==============================] - ETA: 0s - loss: 0.1960 - accuracy: 0.9328\n",
            "Epoch 00011: val_accuracy did not improve from 0.93737\n",
            "308/308 [==============================] - 53s 172ms/step - loss: 0.1960 - accuracy: 0.9328 - val_loss: 0.3646 - val_accuracy: 0.9188\n",
            "Epoch 12/30\n",
            "308/308 [==============================] - ETA: 0s - loss: 0.1964 - accuracy: 0.9324\n",
            "Epoch 00012: val_accuracy did not improve from 0.93737\n",
            "308/308 [==============================] - 53s 172ms/step - loss: 0.1964 - accuracy: 0.9324 - val_loss: 0.3689 - val_accuracy: 0.9081\n",
            "Epoch 13/30\n",
            "308/308 [==============================] - ETA: 0s - loss: 0.1635 - accuracy: 0.9375\n",
            "Epoch 00013: val_accuracy did not improve from 0.93737\n",
            "308/308 [==============================] - 55s 179ms/step - loss: 0.1635 - accuracy: 0.9375 - val_loss: 0.3493 - val_accuracy: 0.9337\n",
            "Epoch 14/30\n",
            "308/308 [==============================] - ETA: 0s - loss: 0.1735 - accuracy: 0.9391\n",
            "Epoch 00014: val_accuracy did not improve from 0.93737\n",
            "308/308 [==============================] - 52s 169ms/step - loss: 0.1735 - accuracy: 0.9391 - val_loss: 0.4975 - val_accuracy: 0.8879\n",
            "Epoch 15/30\n",
            "308/308 [==============================] - ETA: 0s - loss: 0.1724 - accuracy: 0.9401\n",
            "Epoch 00015: val_accuracy did not improve from 0.93737\n",
            "308/308 [==============================] - 52s 170ms/step - loss: 0.1724 - accuracy: 0.9401 - val_loss: 0.3664 - val_accuracy: 0.9135\n",
            "Epoch 16/30\n",
            "308/308 [==============================] - ETA: 0s - loss: 0.1810 - accuracy: 0.9352\n",
            "Epoch 00016: val_accuracy did not improve from 0.93737\n",
            "308/308 [==============================] - 53s 171ms/step - loss: 0.1810 - accuracy: 0.9352 - val_loss: 0.4608 - val_accuracy: 0.8929\n",
            "Epoch 17/30\n",
            "308/308 [==============================] - ETA: 0s - loss: 0.1708 - accuracy: 0.9391\n",
            "Epoch 00017: val_accuracy did not improve from 0.93737\n",
            "308/308 [==============================] - 54s 176ms/step - loss: 0.1708 - accuracy: 0.9391 - val_loss: 0.3385 - val_accuracy: 0.9180\n",
            "Epoch 18/30\n",
            "308/308 [==============================] - ETA: 0s - loss: 0.1692 - accuracy: 0.9360\n",
            "Epoch 00018: val_accuracy did not improve from 0.93737\n",
            "308/308 [==============================] - 53s 171ms/step - loss: 0.1692 - accuracy: 0.9360 - val_loss: 0.5704 - val_accuracy: 0.8912\n",
            "Epoch 19/30\n",
            "308/308 [==============================] - ETA: 0s - loss: 0.1749 - accuracy: 0.9366\n",
            "Epoch 00019: val_accuracy did not improve from 0.93737\n",
            "308/308 [==============================] - 56s 183ms/step - loss: 0.1749 - accuracy: 0.9366 - val_loss: 0.4495 - val_accuracy: 0.9238\n",
            "Epoch 20/30\n",
            "308/308 [==============================] - ETA: 0s - loss: 0.1872 - accuracy: 0.9332\n",
            "Epoch 00020: val_accuracy did not improve from 0.93737\n",
            "308/308 [==============================] - 53s 170ms/step - loss: 0.1872 - accuracy: 0.9332 - val_loss: 0.3663 - val_accuracy: 0.9324\n",
            "Epoch 21/30\n",
            "308/308 [==============================] - ETA: 0s - loss: 0.1565 - accuracy: 0.9415\n",
            "Epoch 00021: val_accuracy did not improve from 0.93737\n",
            "308/308 [==============================] - 52s 168ms/step - loss: 0.1565 - accuracy: 0.9415 - val_loss: 0.3407 - val_accuracy: 0.9345\n",
            "Epoch 22/30\n",
            "308/308 [==============================] - ETA: 0s - loss: 0.1439 - accuracy: 0.9421\n",
            "Epoch 00022: val_accuracy did not improve from 0.93737\n",
            "308/308 [==============================] - 52s 170ms/step - loss: 0.1439 - accuracy: 0.9421 - val_loss: 0.2479 - val_accuracy: 0.9250\n",
            "Epoch 23/30\n",
            "308/308 [==============================] - ETA: 0s - loss: 0.1564 - accuracy: 0.9403\n",
            "Epoch 00023: val_accuracy improved from 0.93737 to 0.93778, saving model to model5.hdf5\n",
            "308/308 [==============================] - 53s 171ms/step - loss: 0.1564 - accuracy: 0.9403 - val_loss: 0.2317 - val_accuracy: 0.9378\n",
            "Epoch 24/30\n",
            "308/308 [==============================] - ETA: 0s - loss: 0.1565 - accuracy: 0.9417\n",
            "Epoch 00024: val_accuracy did not improve from 0.93778\n",
            "308/308 [==============================] - 52s 169ms/step - loss: 0.1565 - accuracy: 0.9417 - val_loss: 0.5119 - val_accuracy: 0.9159\n",
            "Epoch 25/30\n",
            "308/308 [==============================] - ETA: 0s - loss: 0.1419 - accuracy: 0.9409\n",
            "Epoch 00025: val_accuracy did not improve from 0.93778\n",
            "308/308 [==============================] - 58s 187ms/step - loss: 0.1419 - accuracy: 0.9409 - val_loss: 0.3861 - val_accuracy: 0.9151\n",
            "Epoch 26/30\n",
            "308/308 [==============================] - ETA: 0s - loss: 0.1576 - accuracy: 0.9411\n",
            "Epoch 00026: val_accuracy did not improve from 0.93778\n",
            "308/308 [==============================] - 53s 171ms/step - loss: 0.1576 - accuracy: 0.9411 - val_loss: 0.3488 - val_accuracy: 0.9151\n",
            "Epoch 27/30\n",
            "308/308 [==============================] - ETA: 0s - loss: 0.1557 - accuracy: 0.9468\n",
            "Epoch 00027: val_accuracy did not improve from 0.93778\n",
            "308/308 [==============================] - 52s 169ms/step - loss: 0.1557 - accuracy: 0.9468 - val_loss: 0.4483 - val_accuracy: 0.9230\n",
            "Epoch 28/30\n",
            "308/308 [==============================] - ETA: 0s - loss: 0.1457 - accuracy: 0.9448\n",
            "Epoch 00028: val_accuracy did not improve from 0.93778\n",
            "308/308 [==============================] - 53s 171ms/step - loss: 0.1457 - accuracy: 0.9448 - val_loss: 0.5598 - val_accuracy: 0.9073\n",
            "Epoch 29/30\n",
            "308/308 [==============================] - ETA: 0s - loss: 0.1468 - accuracy: 0.9458\n",
            "Epoch 00029: val_accuracy did not improve from 0.93778\n",
            "308/308 [==============================] - 52s 169ms/step - loss: 0.1468 - accuracy: 0.9458 - val_loss: 0.4036 - val_accuracy: 0.9155\n",
            "Epoch 30/30\n",
            "308/308 [==============================] - ETA: 0s - loss: 0.1406 - accuracy: 0.9436\n",
            "Epoch 00030: val_accuracy did not improve from 0.93778\n",
            "308/308 [==============================] - 52s 169ms/step - loss: 0.1406 - accuracy: 0.9436 - val_loss: 0.5308 - val_accuracy: 0.8949\n"
          ],
          "name": "stdout"
        }
      ]
    },
    {
      "cell_type": "code",
      "metadata": {
        "id": "3r4cmsK3uFP0",
        "colab_type": "code",
        "colab": {
          "base_uri": "https://localhost:8080/",
          "height": 194
        },
        "outputId": "e4947d16-e147-4631-a6f6-ea48e719d535"
      },
      "source": [
        "# Confusion Matrix\n",
        "print(confusion_matrix(Y_test, model5.predict(X_test)))"
      ],
      "execution_count": 282,
      "outputs": [
        {
          "output_type": "stream",
          "text": [
            "Pred                LAYING  SITTING  ...  WALKING_DOWNSTAIRS  WALKING_UPSTAIRS\n",
            "True                                 ...                                      \n",
            "LAYING                 510        0  ...                   0                 2\n",
            "SITTING                  1      436  ...                   0                 0\n",
            "STANDING                 0      151  ...                   0                 0\n",
            "WALKING                  0        0  ...                  18                 0\n",
            "WALKING_DOWNSTAIRS       0        0  ...                 417                 2\n",
            "WALKING_UPSTAIRS         0        0  ...                   4               455\n",
            "\n",
            "[6 rows x 6 columns]\n"
          ],
          "name": "stdout"
        }
      ]
    },
    {
      "cell_type": "code",
      "metadata": {
        "id": "hasxG_DZuq5w",
        "colab_type": "code",
        "colab": {
          "base_uri": "https://localhost:8080/",
          "height": 418
        },
        "outputId": "781a5692-6472-40d6-b305-e4768e277970"
      },
      "source": [
        "score = model5.evaluate(X_test, Y_test)\n",
        "print('\\n')\n",
        "print('-'*100)\n",
        "print('\\n')\n",
        "print(f'model accuracy is {score[1]}')\n",
        "\n",
        "import matplotlib.pyplot  as plt\n",
        "plt.plot(history5.history['loss'])\n",
        "plt.plot(history5.history['val_loss'])\n",
        "plt.title('model loss')\n",
        "plt.ylabel('loss')\n",
        "plt.xlabel('epoch')\n",
        "plt.legend(['train', 'test'], loc='upper left')\n",
        "plt.grid()\n",
        "plt.show()"
      ],
      "execution_count": 283,
      "outputs": [
        {
          "output_type": "stream",
          "text": [
            "93/93 [==============================] - 3s 37ms/step - loss: 0.3429 - accuracy: 0.9084\n",
            "\n",
            "\n",
            "----------------------------------------------------------------------------------------------------\n",
            "\n",
            "\n",
            "model accuracy is 0.9083814024925232\n"
          ],
          "name": "stdout"
        },
        {
          "output_type": "display_data",
          "data": {
            "image/png": "[encoded data removed]",
            "text/plain": [
              "<Figure size 432x288 with 1 Axes>"
            ]
          },
          "metadata": {
            "tags": [],
            "needs_background": "light"
          }
        }
      ]
    },
    {
      "cell_type": "code",
      "metadata": {
        "id": "UdAdOTlkvDPa",
        "colab_type": "code",
        "colab": {
          "base_uri": "https://localhost:8080/",
          "height": 514
        },
        "outputId": "391873aa-9733-433b-8109-a4832e00d497"
      },
      "source": [
        "# Initiliazing the sequential model\n",
        "model5_1 = Sequential()\n",
        "# Configuring the parameters\n",
        "model5_1.add(LSTM(16, input_shape=(timesteps, input_dim),return_sequences= True))\n",
        "# Adding a dropout layer\n",
        "model5_1.add(Dropout(0.3))\n",
        "model5_1.add(BatchNormalization())\n",
        "\n",
        "model5_1.add(LSTM(32,return_sequences= True))\n",
        "model5_1.add(Dropout(0.5))\n",
        "model5_1.add(BatchNormalization())\n",
        "\n",
        "model5_1.add(LSTM(64))\n",
        "model5_1.add(Dropout(0.7))\n",
        "model5_1.add(BatchNormalization())\n",
        "\n",
        "# Adding a dense output layer with sigmoid activation\n",
        "model5_1.add(Dense(n_classes, activation='sigmoid'))\n",
        "model5_1.summary()\n",
        "\n",
        "# Compiling the model\n",
        "model5_1.load_weights('model5.hdf5')\n",
        "\n",
        "# Compiling the model\n",
        "model5_1.compile(loss='categorical_crossentropy',\n",
        "              optimizer='rmsprop',\n",
        "              metrics=['accuracy'])"
      ],
      "execution_count": 285,
      "outputs": [
        {
          "output_type": "stream",
          "text": [
            "Model: \"sequential_50\"\n",
            "_________________________________________________________________\n",
            "Layer (type)                 Output Shape              Param #   \n",
            "=================================================================\n",
            "lstm_90 (LSTM)               (None, 128, 16)           1664      \n",
            "_________________________________________________________________\n",
            "dropout_80 (Dropout)         (None, 128, 16)           0         \n",
            "_________________________________________________________________\n",
            "batch_normalization_51 (Batc (None, 128, 16)           64        \n",
            "_________________________________________________________________\n",
            "lstm_91 (LSTM)               (None, 128, 32)           6272      \n",
            "_________________________________________________________________\n",
            "dropout_81 (Dropout)         (None, 128, 32)           0         \n",
            "_________________________________________________________________\n",
            "batch_normalization_52 (Batc (None, 128, 32)           128       \n",
            "_________________________________________________________________\n",
            "lstm_92 (LSTM)               (None, 64)                24832     \n",
            "_________________________________________________________________\n",
            "dropout_82 (Dropout)         (None, 64)                0         \n",
            "_________________________________________________________________\n",
            "batch_normalization_53 (Batc (None, 64)                256       \n",
            "_________________________________________________________________\n",
            "dense_36 (Dense)             (None, 6)                 390       \n",
            "=================================================================\n",
            "Total params: 33,606\n",
            "Trainable params: 33,382\n",
            "Non-trainable params: 224\n",
            "_________________________________________________________________\n"
          ],
          "name": "stdout"
        }
      ]
    },
    {
      "cell_type": "code",
      "metadata": {
        "id": "pWNQmpJHvHUS",
        "colab_type": "code",
        "colab": {
          "base_uri": "https://localhost:8080/",
          "height": 141
        },
        "outputId": "9b6f7bc1-45a5-4c74-f15f-b82e3c5ef2a8"
      },
      "source": [
        "score = model5_1.evaluate(X_test, Y_test)\n",
        "print('\\n')\n",
        "print('-'*100)\n",
        "print('\\n')\n",
        "print(f'model accuracy is {score[1]}')"
      ],
      "execution_count": 286,
      "outputs": [
        {
          "output_type": "stream",
          "text": [
            "93/93 [==============================] - 4s 39ms/step - loss: 0.3214 - accuracy: 0.9328\n",
            "\n",
            "\n",
            "----------------------------------------------------------------------------------------------------\n",
            "\n",
            "\n",
            "model accuracy is 0.9328130483627319\n"
          ],
          "name": "stdout"
        }
      ]
    },
    {
      "cell_type": "code",
      "metadata": {
        "id": "-Dw0KuMh9NJi",
        "colab_type": "code",
        "colab": {
          "base_uri": "https://localhost:8080/",
          "height": 176
        },
        "outputId": "9d0f1209-c15a-4e38-9901-bad76f108ed1"
      },
      "source": [
        "from prettytable import PrettyTable\n",
        "x = PrettyTable()\n",
        "x.field_names = [\"S.NO.\", \"architecture\", \"Test Accuracy\"]\n",
        "x.add_row([\"1\", \"LSTM(8+16)\", \"70.00%\"])\n",
        "x.add_row([\"2\", \"LSTM(16+32)\",\"90.91%\"])\n",
        "x.add_row([\"3\", \"LSTM(32+64)\",\"92.23%\"])\n",
        "x.add_row([\"4\", \"LSTM(8+16+32)\",\"94.82%\"])\n",
        "x.add_row([\"5\", \"LSTM(16+32+64)\",\"93.28%\"])\n",
        "print(x)"
      ],
      "execution_count": 289,
      "outputs": [
        {
          "output_type": "stream",
          "text": [
            "+-------+----------------+---------------+\n",
            "| S.NO. |  architecture  | Test Accuracy |\n",
            "+-------+----------------+---------------+\n",
            "|   1   |   LSTM(8+16)   |     70.00%    |\n",
            "|   2   |  LSTM(16+32)   |     90.91%    |\n",
            "|   3   |  LSTM(32+64)   |     92.23%    |\n",
            "|   4   | LSTM(8+16+32)  |     94.82%    |\n",
            "|   5   | LSTM(16+32+64) |     93.28%    |\n",
            "+-------+----------------+---------------+\n"
          ],
          "name": "stdout"
        }
      ]
    }
  ]
}